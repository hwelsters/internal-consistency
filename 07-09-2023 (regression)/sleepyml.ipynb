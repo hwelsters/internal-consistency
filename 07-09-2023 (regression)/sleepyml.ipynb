{
 "cells": [
  {
   "cell_type": "code",
   "execution_count": 99,
   "metadata": {},
   "outputs": [],
   "source": [
    "import os\n",
    "import itertools\n",
    "from functools import reduce\n",
    "\n",
    "from sklearn.model_selection import *\n",
    "\n",
    "from sklearn.metrics import classification_report, accuracy_score, r2_score, max_error, mean_absolute_error, mean_squared_error, median_absolute_error\n",
    "from sklearn.metrics import classification_report, accuracy_score, make_scorer\n",
    "from sklearn.model_selection import cross_validate\n",
    "from sklearn.svm import SVC\n",
    "\n",
    "import numpy\n",
    "import pandas\n",
    "import seaborn\n",
    "\n",
    "from lab_v2.io import read_file"
   ]
  },
  {
   "cell_type": "code",
   "execution_count": null,
   "metadata": {},
   "outputs": [],
   "source": []
  },
  {
   "cell_type": "code",
   "execution_count": 100,
   "metadata": {},
   "outputs": [],
   "source": [
    "# FILE PATHS\n",
    "DRAW_T03 = './data/draw/draw-T0.3.jsonl' \n",
    "DRAW_T07 = './data/draw/draw-T0.7.jsonl' \n",
    "CSQA_T07 = './data/csqa/csqa-T0.7.jsonl' \n",
    "LAST_LETTERS_T07 = './data/last_letters/last_letters-T0.7.jsonl' \n",
    "\n",
    "ATTRIBUTES = [\"majority_distance\", \"majority_distance_squared\", \"shannon_entropy\", \"gini_impurity\"]\n",
    "CLASS = 'num_correct'\n",
    "K_FOLDS = 5\n",
    "RANDOM_STATE = 0\n",
    "FILE_PATH = CSQA_T07\n",
    "\n",
    "CACHE = 'cache/csqa/csqa-T0.3.json'\n",
    "CACHE_ROS = 'cache/csqa/csqa-T0.3-ROS.json'\n",
    "\n",
    "DATA_EXPLORATION = False"
   ]
  },
  {
   "cell_type": "code",
   "execution_count": 101,
   "metadata": {},
   "outputs": [
    {
     "data": {
      "text/html": [
       "<div>\n",
       "<style scoped>\n",
       "    .dataframe tbody tr th:only-of-type {\n",
       "        vertical-align: middle;\n",
       "    }\n",
       "\n",
       "    .dataframe tbody tr th {\n",
       "        vertical-align: top;\n",
       "    }\n",
       "\n",
       "    .dataframe thead th {\n",
       "        text-align: right;\n",
       "    }\n",
       "</style>\n",
       "<table border=\"1\" class=\"dataframe\">\n",
       "  <thead>\n",
       "    <tr style=\"text-align: right;\">\n",
       "      <th></th>\n",
       "      <th>majority_distance</th>\n",
       "      <th>majority_distance_squared</th>\n",
       "      <th>shannon_entropy</th>\n",
       "      <th>gini_impurity</th>\n",
       "      <th>majority_correct</th>\n",
       "      <th>num_correct</th>\n",
       "    </tr>\n",
       "  </thead>\n",
       "  <tbody>\n",
       "    <tr>\n",
       "      <th>0</th>\n",
       "      <td>1.378000e-07</td>\n",
       "      <td>0.0</td>\n",
       "      <td>0.0</td>\n",
       "      <td>0.0</td>\n",
       "      <td>True</td>\n",
       "      <td>20</td>\n",
       "    </tr>\n",
       "  </tbody>\n",
       "</table>\n",
       "</div>"
      ],
      "text/plain": [
       "   majority_distance  majority_distance_squared  shannon_entropy   \n",
       "0       1.378000e-07                        0.0              0.0  \\\n",
       "\n",
       "   gini_impurity  majority_correct  num_correct  \n",
       "0            0.0              True           20  "
      ]
     },
     "execution_count": 101,
     "metadata": {},
     "output_type": "execute_result"
    }
   ],
   "source": [
    "data = read_file(FILE_PATH)\n",
    "data.head(1)"
   ]
  },
  {
   "cell_type": "code",
   "execution_count": 102,
   "metadata": {},
   "outputs": [],
   "source": [
    "if DATA_EXPLORATION:\n",
    "    fig = px.scatter_3d(data, x='majority_distance', y='shannon_entropy', z='gini_impurity', color=CLASS, \n",
    "                        color_discrete_sequence=[px.colors.sequential.Plasma_r[3], px.colors.sequential.Plasma_r[-1]])\n",
    "    fig.update_traces(marker=dict(size=3), selector=dict(mode='markers'))\n",
    "    fig.update_traces(marker=dict(opacity=0.75), selector=dict(mode='markers'))\n",
    "    fig.update_layout(margin=dict(l=0, r=0, b=0, t=0))\n",
    "    fig.show()"
   ]
  },
  {
   "cell_type": "markdown",
   "metadata": {},
   "source": [
    "## **Data exploration**"
   ]
  },
  {
   "cell_type": "code",
   "execution_count": 103,
   "metadata": {},
   "outputs": [],
   "source": [
    "if DATA_EXPLORATION:\n",
    "    seaborn.set_theme(style='ticks')\n",
    "    seaborn.pairplot(data, hue=\"majority_correct\", plot_kws={'alpha': 0.4})\n",
    "    print('')"
   ]
  },
  {
   "cell_type": "code",
   "execution_count": 104,
   "metadata": {},
   "outputs": [],
   "source": [
    "data_x = data[ATTRIBUTES]\n",
    "data_y = data[CLASS]"
   ]
  },
  {
   "cell_type": "code",
   "execution_count": 105,
   "metadata": {},
   "outputs": [],
   "source": [
    "classification_reports = []\n",
    "def classification_report_scorer(y_true, y_pred):\n",
    "    classification_reports.append(classification_report(y_true, y_pred))\n",
    "    return accuracy_score(y_true, y_pred)"
   ]
  },
  {
   "cell_type": "code",
   "execution_count": 106,
   "metadata": {},
   "outputs": [],
   "source": [
    "def report_average(*args):\n",
    "    report_list = list()\n",
    "    for report in args:\n",
    "        splited = [' '.join(x.split()) for x in report.split('\\n\\n')]\n",
    "        header = [x for x in splited[0].split(' ')]\n",
    "        data = numpy.array(splited[1].split(' ')).reshape(-1, len(header) + 1)\n",
    "        data = numpy.delete(data, 0, 1).astype(float)\n",
    "        rest = splited[2].split(' ')\n",
    "        accuarcy =numpy.array([0, 0, rest[1], rest[2]]).astype(float).reshape(-1, len(header))\n",
    "        macro_avg = numpy.array([rest[5:9]]).astype(float).reshape(-1, len(header))\n",
    "        weighted_avg = numpy.array([rest[11:]]).astype(float).reshape(-1, len(header))\n",
    "        #avg_total = numpy.array([x for x in avg]).astype(float).reshape(-1, len(header))\n",
    "        df = pandas.DataFrame(numpy.concatenate((data, accuarcy,macro_avg,weighted_avg)), columns=header)\n",
    "        report_list.append(df)\n",
    "    res = reduce(lambda x, y: x.add(y, fill_value=0), report_list) / len(report_list)\n",
    "    return res.rename(index={res.index[-3]: 'accuracy',res.index[-2]: 'macro_avg',res.index[-1]: 'weighted_avg'})"
   ]
  },
  {
   "cell_type": "code",
   "execution_count": 107,
   "metadata": {},
   "outputs": [],
   "source": [
    "class ReportAverage:\n",
    "    def __init__(self):\n",
    "        self.classification_reports = []\n",
    "\n",
    "    def classification_report_scorer(self, y_true, y_pred):\n",
    "        self.classification_reports.append(classification_report(y_true, y_pred))\n",
    "        return accuracy_score(y_true, y_pred)\n",
    "    \n",
    "    def average_report(self):\n",
    "        average = report_average(*self.classification_reports)\n",
    "        return {\n",
    "            'precision_True': average.loc[0]['precision'],\n",
    "            'recall_True': average.loc[0]['recall'],\n",
    "            'f1-score_True': average.loc[0]['f1-score'],\n",
    "            'precision_False': average.loc[1]['precision'],\n",
    "            'recall_False': average.loc[1]['recall'],\n",
    "            'f1-score_False': average.loc[1]['f1-score'],\n",
    "            'f1-score_Average': (average.loc[0]['f1-score'] + average.loc[1]['f1-score']) / 2,\n",
    "            'accuracy': average.loc['accuracy']['f1-score']\n",
    "        }"
   ]
  },
  {
   "cell_type": "code",
   "execution_count": 108,
   "metadata": {},
   "outputs": [],
   "source": [
    "def my_cross_validate(model, sampler, data_x, data_y, cv=5):\n",
    "    kfold = KFold(n_splits=cv)\n",
    "    results = {'r2': [], \n",
    "               'mean_squared_error': [],\n",
    "               'median_absolute_error': [],\n",
    "               'mean_absolute_error': [],\n",
    "               'max_error': []}\n",
    "    for train_idx, test_idx, in kfold.split(data_x):\n",
    "        X_train, X_test = data_x.iloc[train_idx], data_x.iloc[test_idx]\n",
    "        y_train, y_test = data_y.iloc[train_idx], data_y.iloc[test_idx]\n",
    "        \n",
    "        if sampler != None: X_train, y_train = sampler.fit_resample(X_train, y_train)\n",
    "        model.fit(X_train, y_train)\n",
    "\n",
    "        y_pred = model.predict(X_test)\n",
    "        results['r2'].append(r2_score(y_test, y_pred))\n",
    "        results['mean_squared_error'].append(mean_squared_error(y_test, y_pred))\n",
    "        results['mean_absolute_error'].append(mean_absolute_error(y_test, y_pred))\n",
    "        results['median_absolute_error'].append(median_absolute_error(y_test, y_pred))\n",
    "        results['max_error'].append(max_error(y_test, y_pred))\n",
    "\n",
    "    for a in results:\n",
    "        results[a] = sum(results[a]) / len(results[a])\n",
    "    return results"
   ]
  },
  {
   "cell_type": "code",
   "execution_count": null,
   "metadata": {},
   "outputs": [],
   "source": []
  },
  {
   "cell_type": "code",
   "execution_count": 109,
   "metadata": {},
   "outputs": [],
   "source": [
    "class MLExploration:\n",
    "    TEMPLATE_DICT = {\n",
    "        'sampler': '',\n",
    "        'model': '', \n",
    "        'hyperparameters': '',\n",
    "        'r2': [], \n",
    "        'mean_squared_error': [],\n",
    "        'median_absolute_error': [],\n",
    "        'mean_absolute_error': [],\n",
    "        'max_error': []\n",
    "    }\n",
    "    RANDOM_STATE = 42\n",
    "\n",
    "    def __init__(self, data_x, data_y, output_file_path):\n",
    "        self.data_x = data_x\n",
    "        self.data_y = data_y\n",
    "        self.output_file_path = output_file_path\n",
    "\n",
    "        self.explored_models = pandas.DataFrame([MLExploration.TEMPLATE_DICT])\n",
    "        if os.path.exists(output_file_path): \n",
    "            self.explored_models = pandas.read_json(output_file_path, orient='split')\n",
    "\n",
    "\n",
    "    def grid_search(self, model, parameters):\n",
    "        parameter_combinations = self.__parameter_product(parameters)\n",
    "        for combination in parameter_combinations:\n",
    "            print(combination)\n",
    "            self.explore_model(model, combination)\n",
    "\n",
    "    def explore_model(self, model, hyperparameters, sampler=None):\n",
    "        index = MLExploration.hash(sampler, model, hyperparameters)\n",
    "        if index in self.explored_models.index: return self.explored_models.loc[index]\n",
    "\n",
    "        scores = my_cross_validate(model(**hyperparameters), sampler, data_x, data_y)\n",
    "        average_scores = scores.values()\n",
    "        print(average_scores)\n",
    "\n",
    "        self.explored_models.loc[index] = [\n",
    "            MLExploration.hash_sampler(sampler), \n",
    "            MLExploration.hash_model(model), \n",
    "            MLExploration.hash_hyperparameters(hyperparameters),\n",
    "            *average_scores\n",
    "        ]\n",
    "        self.explored_models.to_json(self.output_file_path, orient='split')\n",
    "\n",
    "    def hash_sampler(model):\n",
    "        if model == None: return ''\n",
    "        return str(model)\n",
    "    \n",
    "    def hash_model(model):\n",
    "        return str(model.__name__)\n",
    "    \n",
    "    def hash_hyperparameters(hyperparameters):\n",
    "       return str(sorted(hyperparameters.items(), key=lambda x:x[0]))\n",
    "    \n",
    "    def hash(sampler, model, hyperparameters):\n",
    "        sampler = MLExploration.hash_sampler(sampler)\n",
    "        model = MLExploration.hash_model(model)\n",
    "        hyperparameters = MLExploration.hash_hyperparameters(hyperparameters)\n",
    "        return str((sampler, model, hyperparameters))\n",
    "    \n",
    "    def __parameter_product(self, parameters):\n",
    "        keys, values = zip(*parameters.items())\n",
    "        experiments = [dict(zip(keys, v)) for v in itertools.product(*values)]\n",
    "        return experiments"
   ]
  },
  {
   "cell_type": "code",
   "execution_count": 110,
   "metadata": {},
   "outputs": [],
   "source": [
    "from sklearn.ensemble import AdaBoostRegressor, RandomForestRegressor, ExtraTreesRegressor, GradientBoostingRegressor\n",
    "from sklearn.gaussian_process import GaussianProcessRegressor\n",
    "from sklearn.gaussian_process.kernels import RBF\n",
    "from sklearn.naive_bayes import GaussianNB\n",
    "from sklearn.neighbors import KNeighborsRegressor\n",
    "from sklearn.neural_network import MLPRegressor\n",
    "from sklearn.svm import SVC\n",
    "from sklearn.tree import DecisionTreeRegressor\n",
    "\n",
    "from imblearn.over_sampling import SMOTE, ADASYN, RandomOverSampler\n",
    "from imblearn.under_sampling import CondensedNearestNeighbour, EditedNearestNeighbours, RandomUnderSampler, InstanceHardnessThreshold"
   ]
  },
  {
   "cell_type": "code",
   "execution_count": 111,
   "metadata": {},
   "outputs": [],
   "source": [
    "def try_models(data_x, data_y, file_path, sampler):\n",
    "    csqa = MLExploration(data_x, data_y, file_path)\n",
    "    csqa.explore_model(AdaBoostRegressor, {}, sampler=sampler)\n",
    "    csqa.explore_model(RandomForestRegressor, {}, sampler=sampler)\n",
    "    csqa.explore_model(ExtraTreesRegressor, {}, sampler=sampler)\n",
    "    csqa.explore_model(GradientBoostingRegressor, {}, sampler=sampler)\n",
    "    # csqa.explore_model(GaussianProcessRegressor, {}, sampler=sampler)\n",
    "    csqa.explore_model(KNeighborsRegressor, {}, sampler=sampler)\n",
    "    csqa.explore_model(MLPRegressor, {}, sampler=sampler)\n",
    "    csqa.explore_model(DecisionTreeRegressor, {}, sampler=sampler)"
   ]
  },
  {
   "cell_type": "code",
   "execution_count": 112,
   "metadata": {},
   "outputs": [
    {
     "name": "stdout",
     "output_type": "stream",
     "text": [
      "('', None)\n",
      "('-ROS', RandomOverSampler(random_state=0))\n",
      "('-RUS', RandomUnderSampler(random_state=0))\n",
      "('', None)\n",
      "('-ROS', RandomOverSampler(random_state=0))\n",
      "('-RUS', RandomUnderSampler(random_state=0))\n",
      "('', None)\n",
      "('-ROS', RandomOverSampler(random_state=0))\n",
      "('-RUS', RandomUnderSampler(random_state=0))\n",
      "('', None)\n",
      "('-ROS', RandomOverSampler(random_state=0))\n"
     ]
    },
    {
     "ename": "MemoryError",
     "evalue": "Unable to allocate 61.4 GiB for an array with shape (90804, 90804) and data type float64",
     "output_type": "error",
     "traceback": [
      "\u001b[1;31m---------------------------------------------------------------------------\u001b[0m",
      "\u001b[1;31mMemoryError\u001b[0m                               Traceback (most recent call last)",
      "Cell \u001b[1;32mIn[112], line 30\u001b[0m\n\u001b[0;32m     28\u001b[0m sampler \u001b[39m=\u001b[39m row[\u001b[39m1\u001b[39m]\n\u001b[0;32m     29\u001b[0m \u001b[39mprint\u001b[39m(row)\n\u001b[1;32m---> 30\u001b[0m try_models(data_x, data_y, cache_file_path, sampler)\n",
      "Cell \u001b[1;32mIn[111], line 7\u001b[0m, in \u001b[0;36mtry_models\u001b[1;34m(data_x, data_y, file_path, sampler)\u001b[0m\n\u001b[0;32m      5\u001b[0m csqa\u001b[39m.\u001b[39mexplore_model(ExtraTreesRegressor, {}, sampler\u001b[39m=\u001b[39msampler)\n\u001b[0;32m      6\u001b[0m csqa\u001b[39m.\u001b[39mexplore_model(GradientBoostingRegressor, {}, sampler\u001b[39m=\u001b[39msampler)\n\u001b[1;32m----> 7\u001b[0m csqa\u001b[39m.\u001b[39;49mexplore_model(GaussianProcessRegressor, {}, sampler\u001b[39m=\u001b[39;49msampler)\n\u001b[0;32m      8\u001b[0m csqa\u001b[39m.\u001b[39mexplore_model(KNeighborsRegressor, {}, sampler\u001b[39m=\u001b[39msampler)\n\u001b[0;32m      9\u001b[0m csqa\u001b[39m.\u001b[39mexplore_model(MLPRegressor, {}, sampler\u001b[39m=\u001b[39msampler)\n",
      "Cell \u001b[1;32mIn[109], line 34\u001b[0m, in \u001b[0;36mMLExploration.explore_model\u001b[1;34m(self, model, hyperparameters, sampler)\u001b[0m\n\u001b[0;32m     31\u001b[0m index \u001b[39m=\u001b[39m MLExploration\u001b[39m.\u001b[39mhash(sampler, model, hyperparameters)\n\u001b[0;32m     32\u001b[0m \u001b[39mif\u001b[39;00m index \u001b[39min\u001b[39;00m \u001b[39mself\u001b[39m\u001b[39m.\u001b[39mexplored_models\u001b[39m.\u001b[39mindex: \u001b[39mreturn\u001b[39;00m \u001b[39mself\u001b[39m\u001b[39m.\u001b[39mexplored_models\u001b[39m.\u001b[39mloc[index]\n\u001b[1;32m---> 34\u001b[0m scores \u001b[39m=\u001b[39m my_cross_validate(model(\u001b[39m*\u001b[39;49m\u001b[39m*\u001b[39;49mhyperparameters), sampler, data_x, data_y)\n\u001b[0;32m     35\u001b[0m average_scores \u001b[39m=\u001b[39m scores\u001b[39m.\u001b[39mvalues()\n\u001b[0;32m     36\u001b[0m \u001b[39mprint\u001b[39m(average_scores)\n",
      "Cell \u001b[1;32mIn[108], line 13\u001b[0m, in \u001b[0;36mmy_cross_validate\u001b[1;34m(model, sampler, data_x, data_y, cv)\u001b[0m\n\u001b[0;32m     10\u001b[0m y_train, y_test \u001b[39m=\u001b[39m data_y\u001b[39m.\u001b[39miloc[train_idx], data_y\u001b[39m.\u001b[39miloc[test_idx]\n\u001b[0;32m     12\u001b[0m \u001b[39mif\u001b[39;00m sampler \u001b[39m!=\u001b[39m \u001b[39mNone\u001b[39;00m: X_train, y_train \u001b[39m=\u001b[39m sampler\u001b[39m.\u001b[39mfit_resample(X_train, y_train)\n\u001b[1;32m---> 13\u001b[0m model\u001b[39m.\u001b[39;49mfit(X_train, y_train)\n\u001b[0;32m     15\u001b[0m y_pred \u001b[39m=\u001b[39m model\u001b[39m.\u001b[39mpredict(X_test)\n\u001b[0;32m     16\u001b[0m results[\u001b[39m'\u001b[39m\u001b[39mr2\u001b[39m\u001b[39m'\u001b[39m]\u001b[39m.\u001b[39mappend(r2_score(y_test, y_pred))\n",
      "File \u001b[1;32m~\\AppData\\Local\\Packages\\PythonSoftwareFoundation.Python.3.11_qbz5n2kfra8p0\\LocalCache\\local-packages\\Python311\\site-packages\\sklearn\\gaussian_process\\_gpr.py:314\u001b[0m, in \u001b[0;36mGaussianProcessRegressor.fit\u001b[1;34m(self, X, y)\u001b[0m\n\u001b[0;32m    312\u001b[0m     \u001b[39mself\u001b[39m\u001b[39m.\u001b[39mlog_marginal_likelihood_value_ \u001b[39m=\u001b[39m \u001b[39m-\u001b[39mnp\u001b[39m.\u001b[39mmin(lml_values)\n\u001b[0;32m    313\u001b[0m \u001b[39melse\u001b[39;00m:\n\u001b[1;32m--> 314\u001b[0m     \u001b[39mself\u001b[39m\u001b[39m.\u001b[39mlog_marginal_likelihood_value_ \u001b[39m=\u001b[39m \u001b[39mself\u001b[39;49m\u001b[39m.\u001b[39;49mlog_marginal_likelihood(\n\u001b[0;32m    315\u001b[0m         \u001b[39mself\u001b[39;49m\u001b[39m.\u001b[39;49mkernel_\u001b[39m.\u001b[39;49mtheta, clone_kernel\u001b[39m=\u001b[39;49m\u001b[39mFalse\u001b[39;49;00m\n\u001b[0;32m    316\u001b[0m     )\n\u001b[0;32m    318\u001b[0m \u001b[39m# Precompute quantities required for predictions which are independent\u001b[39;00m\n\u001b[0;32m    319\u001b[0m \u001b[39m# of actual query points\u001b[39;00m\n\u001b[0;32m    320\u001b[0m \u001b[39m# Alg. 2.1, page 19, line 2 -> L = cholesky(K + sigma^2 I)\u001b[39;00m\n\u001b[0;32m    321\u001b[0m K \u001b[39m=\u001b[39m \u001b[39mself\u001b[39m\u001b[39m.\u001b[39mkernel_(\u001b[39mself\u001b[39m\u001b[39m.\u001b[39mX_train_)\n",
      "File \u001b[1;32m~\\AppData\\Local\\Packages\\PythonSoftwareFoundation.Python.3.11_qbz5n2kfra8p0\\LocalCache\\local-packages\\Python311\\site-packages\\sklearn\\gaussian_process\\_gpr.py:548\u001b[0m, in \u001b[0;36mGaussianProcessRegressor.log_marginal_likelihood\u001b[1;34m(self, theta, eval_gradient, clone_kernel)\u001b[0m\n\u001b[0;32m    546\u001b[0m     K, K_gradient \u001b[39m=\u001b[39m kernel(\u001b[39mself\u001b[39m\u001b[39m.\u001b[39mX_train_, eval_gradient\u001b[39m=\u001b[39m\u001b[39mTrue\u001b[39;00m)\n\u001b[0;32m    547\u001b[0m \u001b[39melse\u001b[39;00m:\n\u001b[1;32m--> 548\u001b[0m     K \u001b[39m=\u001b[39m kernel(\u001b[39mself\u001b[39;49m\u001b[39m.\u001b[39;49mX_train_)\n\u001b[0;32m    550\u001b[0m \u001b[39m# Alg. 2.1, page 19, line 2 -> L = cholesky(K + sigma^2 I)\u001b[39;00m\n\u001b[0;32m    551\u001b[0m K[np\u001b[39m.\u001b[39mdiag_indices_from(K)] \u001b[39m+\u001b[39m\u001b[39m=\u001b[39m \u001b[39mself\u001b[39m\u001b[39m.\u001b[39malpha\n",
      "File \u001b[1;32m~\\AppData\\Local\\Packages\\PythonSoftwareFoundation.Python.3.11_qbz5n2kfra8p0\\LocalCache\\local-packages\\Python311\\site-packages\\sklearn\\gaussian_process\\kernels.py:946\u001b[0m, in \u001b[0;36mProduct.__call__\u001b[1;34m(self, X, Y, eval_gradient)\u001b[0m\n\u001b[0;32m    942\u001b[0m     \u001b[39mreturn\u001b[39;00m K1 \u001b[39m*\u001b[39m K2, np\u001b[39m.\u001b[39mdstack(\n\u001b[0;32m    943\u001b[0m         (K1_gradient \u001b[39m*\u001b[39m K2[:, :, np\u001b[39m.\u001b[39mnewaxis], K2_gradient \u001b[39m*\u001b[39m K1[:, :, np\u001b[39m.\u001b[39mnewaxis])\n\u001b[0;32m    944\u001b[0m     )\n\u001b[0;32m    945\u001b[0m \u001b[39melse\u001b[39;00m:\n\u001b[1;32m--> 946\u001b[0m     \u001b[39mreturn\u001b[39;00m \u001b[39mself\u001b[39;49m\u001b[39m.\u001b[39;49mk1(X, Y) \u001b[39m*\u001b[39m \u001b[39mself\u001b[39m\u001b[39m.\u001b[39mk2(X, Y)\n",
      "File \u001b[1;32m~\\AppData\\Local\\Packages\\PythonSoftwareFoundation.Python.3.11_qbz5n2kfra8p0\\LocalCache\\local-packages\\Python311\\site-packages\\sklearn\\gaussian_process\\kernels.py:1253\u001b[0m, in \u001b[0;36mConstantKernel.__call__\u001b[1;34m(self, X, Y, eval_gradient)\u001b[0m\n\u001b[0;32m   1250\u001b[0m \u001b[39melif\u001b[39;00m eval_gradient:\n\u001b[0;32m   1251\u001b[0m     \u001b[39mraise\u001b[39;00m \u001b[39mValueError\u001b[39;00m(\u001b[39m\"\u001b[39m\u001b[39mGradient can only be evaluated when Y is None.\u001b[39m\u001b[39m\"\u001b[39m)\n\u001b[1;32m-> 1253\u001b[0m K \u001b[39m=\u001b[39m np\u001b[39m.\u001b[39;49mfull(\n\u001b[0;32m   1254\u001b[0m     (_num_samples(X), _num_samples(Y)),\n\u001b[0;32m   1255\u001b[0m     \u001b[39mself\u001b[39;49m\u001b[39m.\u001b[39;49mconstant_value,\n\u001b[0;32m   1256\u001b[0m     dtype\u001b[39m=\u001b[39;49mnp\u001b[39m.\u001b[39;49marray(\u001b[39mself\u001b[39;49m\u001b[39m.\u001b[39;49mconstant_value)\u001b[39m.\u001b[39;49mdtype,\n\u001b[0;32m   1257\u001b[0m )\n\u001b[0;32m   1258\u001b[0m \u001b[39mif\u001b[39;00m eval_gradient:\n\u001b[0;32m   1259\u001b[0m     \u001b[39mif\u001b[39;00m \u001b[39mnot\u001b[39;00m \u001b[39mself\u001b[39m\u001b[39m.\u001b[39mhyperparameter_constant_value\u001b[39m.\u001b[39mfixed:\n",
      "File \u001b[1;32m~\\AppData\\Local\\Packages\\PythonSoftwareFoundation.Python.3.11_qbz5n2kfra8p0\\LocalCache\\local-packages\\Python311\\site-packages\\numpy\\core\\numeric.py:329\u001b[0m, in \u001b[0;36mfull\u001b[1;34m(shape, fill_value, dtype, order, like)\u001b[0m\n\u001b[0;32m    327\u001b[0m     fill_value \u001b[39m=\u001b[39m asarray(fill_value)\n\u001b[0;32m    328\u001b[0m     dtype \u001b[39m=\u001b[39m fill_value\u001b[39m.\u001b[39mdtype\n\u001b[1;32m--> 329\u001b[0m a \u001b[39m=\u001b[39m empty(shape, dtype, order)\n\u001b[0;32m    330\u001b[0m multiarray\u001b[39m.\u001b[39mcopyto(a, fill_value, casting\u001b[39m=\u001b[39m\u001b[39m'\u001b[39m\u001b[39munsafe\u001b[39m\u001b[39m'\u001b[39m)\n\u001b[0;32m    331\u001b[0m \u001b[39mreturn\u001b[39;00m a\n",
      "\u001b[1;31mMemoryError\u001b[0m: Unable to allocate 61.4 GiB for an array with shape (90804, 90804) and data type float64"
     ]
    }
   ],
   "source": [
    "for file_path, cache_file_path in [\n",
    "    ('data/draw/draw-T0.3.jsonl', 'cache/draw/draw-T0.3.json'),\n",
    "    ('data/draw/draw-T0.5.jsonl', 'cache/draw/draw-T0.5.json'),\n",
    "    ('data/draw/draw-T0.7.jsonl', 'cache/draw/draw-T0.7.json'),\n",
    "    ('data/csqa/csqa-T0.3.jsonl', 'cache/csqa/csqa-T0.3.json'),\n",
    "    ('data/csqa/csqa-T0.5.jsonl', 'cache/csqa/csqa-T0.5.json'),\n",
    "    ('data/csqa/csqa-T0.7.jsonl', 'cache/csqa/csqa-T0.7.json'),\n",
    "    ('data/csqa/last_letters-T0.3.jsonl', 'cache/last_letters/last_letters-T0.3.json'),\n",
    "    ('data/last_letters/last_letters-T0.5.jsonl', 'cache/last_letters/last_letters-T0.5.json'),\n",
    "    ('data/last_letters/last_letters-T0.7.jsonl', 'cache/last_letters/last_letters-T0.7.json'),\n",
    "]:\n",
    "    data = read_file(file_path)\n",
    "    data_x = data[ATTRIBUTES]\n",
    "    data_y = data[CLASS]\n",
    "\n",
    "    for row in [\n",
    "        ('', None),\n",
    "\n",
    "        ('-ROS', RandomOverSampler(random_state=RANDOM_STATE)),\n",
    "        # ('-ADASYN', ADASYN(random_state=RANDOM_STATE)),\n",
    "        # ('-SMOTE', SMOTE(random_state=RANDOM_STATE)),\n",
    "\n",
    "        # ('-CNN', CondensedNearestNeighbour(random_state=RANDOM_STATE)),\n",
    "        # ('-ENN', EditedNearestNeighbours()),\n",
    "        ('-RUS', RandomUnderSampler(random_state=RANDOM_STATE))\n",
    "    ]:\n",
    "        name = row[0]\n",
    "        sampler = row[1]\n",
    "        print(row)\n",
    "        try_models(data_x, data_y, cache_file_path, sampler)"
   ]
  }
 ],
 "metadata": {
  "kernelspec": {
   "display_name": "Python 3",
   "language": "python",
   "name": "python3"
  },
  "language_info": {
   "codemirror_mode": {
    "name": "ipython",
    "version": 3
   },
   "file_extension": ".py",
   "mimetype": "text/x-python",
   "name": "python",
   "nbconvert_exporter": "python",
   "pygments_lexer": "ipython3",
   "version": "3.11.4"
  },
  "orig_nbformat": 4
 },
 "nbformat": 4,
 "nbformat_minor": 2
}
