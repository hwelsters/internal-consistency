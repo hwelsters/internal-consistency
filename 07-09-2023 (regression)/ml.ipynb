{
 "cells": [
  {
   "cell_type": "code",
   "execution_count": 1182,
   "metadata": {},
   "outputs": [],
   "source": [
    "import os\n",
    "import itertools\n",
    "from functools import reduce\n",
    "from collections import Counter\n",
    "\n",
    "from sklearn.metrics import classification_report, accuracy_score, r2_score, max_error, mean_absolute_error, mean_squared_error, median_absolute_error\n",
    "from sklearn.model_selection import cross_validate, KFold\n",
    "from sklearn.svm import SVC\n",
    "\n",
    "import pandas\n",
    "import seaborn\n",
    "from mpl_toolkits import mplot3d\n",
    "import matplotlib.pyplot as plt\n",
    "import matplotlib\n",
    "import plotly.express as px\n",
    "\n",
    "from lab_v2.io import read_file"
   ]
  },
  {
   "cell_type": "code",
   "execution_count": 1183,
   "metadata": {},
   "outputs": [],
   "source": [
    "# FILE PATHS\n",
    "DRAW_T07 = './data/draw/draw-T0.7.jsonl' \n",
    "LAST_LETTERS_T07 = './data/last_letters/last_letters-T0.7.jsonl' \n",
    "CSQA_T07 = './data/csqa/csqa-T0.7.jsonl' \n",
    "\n",
    "ATTRIBUTES = [\"majority_distance\", \"majority_distance_squared\", \"shannon_entropy\", \"gini_impurity\"]\n",
    "SCORES = ['r2', 'neg_root_mean_squared_error', 'neg_median_absolute_error', 'neg_mean_absolute_error', 'max_error']\n",
    "CLASS = 'num_correct'\n",
    "\n",
    "DATA_EXPLORATION = False\n",
    "\n",
    "FILE_PATH = CSQA_T07\n",
    "CACHE = 'cache/csqa/csqa-T0.3.json'"
   ]
  },
  {
   "cell_type": "code",
   "execution_count": 1184,
   "metadata": {},
   "outputs": [
    {
     "data": {
      "text/html": [
       "<div>\n",
       "<style scoped>\n",
       "    .dataframe tbody tr th:only-of-type {\n",
       "        vertical-align: middle;\n",
       "    }\n",
       "\n",
       "    .dataframe tbody tr th {\n",
       "        vertical-align: top;\n",
       "    }\n",
       "\n",
       "    .dataframe thead th {\n",
       "        text-align: right;\n",
       "    }\n",
       "</style>\n",
       "<table border=\"1\" class=\"dataframe\">\n",
       "  <thead>\n",
       "    <tr style=\"text-align: right;\">\n",
       "      <th></th>\n",
       "      <th>majority_distance</th>\n",
       "      <th>majority_distance_squared</th>\n",
       "      <th>shannon_entropy</th>\n",
       "      <th>gini_impurity</th>\n",
       "      <th>majority_correct</th>\n",
       "      <th>num_correct</th>\n",
       "    </tr>\n",
       "  </thead>\n",
       "  <tbody>\n",
       "    <tr>\n",
       "      <th>0</th>\n",
       "      <td>1.378000e-07</td>\n",
       "      <td>0.0</td>\n",
       "      <td>0.0</td>\n",
       "      <td>0.0</td>\n",
       "      <td>True</td>\n",
       "      <td>20</td>\n",
       "    </tr>\n",
       "  </tbody>\n",
       "</table>\n",
       "</div>"
      ],
      "text/plain": [
       "   majority_distance  majority_distance_squared  shannon_entropy   \n",
       "0       1.378000e-07                        0.0              0.0  \\\n",
       "\n",
       "   gini_impurity  majority_correct  num_correct  \n",
       "0            0.0              True           20  "
      ]
     },
     "execution_count": 1184,
     "metadata": {},
     "output_type": "execute_result"
    }
   ],
   "source": [
    "data = read_file(FILE_PATH)\n",
    "data['num_correct'] = data['num_correct'].apply(lambda row : row)\n",
    "data.head(1)"
   ]
  },
  {
   "cell_type": "markdown",
   "metadata": {},
   "source": [
    "## **Data exploration**"
   ]
  },
  {
   "cell_type": "code",
   "execution_count": 1185,
   "metadata": {},
   "outputs": [],
   "source": [
    "if DATA_EXPLORATION:\n",
    "    count = dict(Counter(data['num_correct']))\n",
    "    count = sorted(count.items(), key=lambda x: x[0])\n",
    "    ax = seaborn.barplot(count, errorbar=None)\n",
    "    ax.set(xlabel='num_correct', ylabel='count')"
   ]
  },
  {
   "cell_type": "code",
   "execution_count": 1186,
   "metadata": {},
   "outputs": [],
   "source": [
    "if DATA_EXPLORATION: \n",
    "    seaborn.set_theme(style='ticks')\n",
    "    seaborn.pairplot(data[[*ATTRIBUTES, CLASS]], hue=CLASS, plot_kws={'alpha': 0.35})\n",
    "    print('')"
   ]
  },
  {
   "cell_type": "code",
   "execution_count": 1187,
   "metadata": {},
   "outputs": [],
   "source": [
    "if DATA_EXPLORATION:\n",
    "    fig = px.scatter_3d(data, x='majority_distance', y='shannon_entropy', z='gini_impurity', color=CLASS)\n",
    "    fig.update_traces(marker=dict(size=3), selector=dict(mode='markers'))\n",
    "    fig.update_traces(marker=dict(opacity=0.75), selector=dict(mode='markers'))\n",
    "    fig.update_layout(margin=dict(l=0, r=0, b=0, t=0))\n",
    "    fig.show()"
   ]
  },
  {
   "cell_type": "code",
   "execution_count": 1188,
   "metadata": {},
   "outputs": [
    {
     "data": {
      "text/html": [
       "<div>\n",
       "<style scoped>\n",
       "    .dataframe tbody tr th:only-of-type {\n",
       "        vertical-align: middle;\n",
       "    }\n",
       "\n",
       "    .dataframe tbody tr th {\n",
       "        vertical-align: top;\n",
       "    }\n",
       "\n",
       "    .dataframe thead th {\n",
       "        text-align: right;\n",
       "    }\n",
       "</style>\n",
       "<table border=\"1\" class=\"dataframe\">\n",
       "  <thead>\n",
       "    <tr style=\"text-align: right;\">\n",
       "      <th></th>\n",
       "      <th>majority_distance</th>\n",
       "      <th>majority_distance_squared</th>\n",
       "      <th>shannon_entropy</th>\n",
       "      <th>gini_impurity</th>\n",
       "    </tr>\n",
       "  </thead>\n",
       "  <tbody>\n",
       "    <tr>\n",
       "      <th>0</th>\n",
       "      <td>1.378000e-07</td>\n",
       "      <td>0.0</td>\n",
       "      <td>0.0</td>\n",
       "      <td>0.0</td>\n",
       "    </tr>\n",
       "  </tbody>\n",
       "</table>\n",
       "</div>"
      ],
      "text/plain": [
       "   majority_distance  majority_distance_squared  shannon_entropy   \n",
       "0       1.378000e-07                        0.0              0.0  \\\n",
       "\n",
       "   gini_impurity  \n",
       "0            0.0  "
      ]
     },
     "metadata": {},
     "output_type": "display_data"
    },
    {
     "data": {
      "text/plain": [
       "0    20\n",
       "Name: num_correct, dtype: int64"
      ]
     },
     "metadata": {},
     "output_type": "display_data"
    }
   ],
   "source": [
    "data_x = data[ATTRIBUTES]\n",
    "data_y = data[CLASS]\n",
    "display(data_x.head(1))\n",
    "display(data_y.head(1))"
   ]
  },
  {
   "cell_type": "code",
   "execution_count": 1189,
   "metadata": {},
   "outputs": [],
   "source": [
    "classification_reports = []\n",
    "def classification_report_scorer(y_true, y_pred):\n",
    "    classification_reports.append(classification_report(y_true, y_pred))\n",
    "    return accuracy_score(y_true, y_pred)"
   ]
  },
  {
   "cell_type": "code",
   "execution_count": 1190,
   "metadata": {},
   "outputs": [],
   "source": [
    "import math\n",
    "def report_average(report):\n",
    "    report = report.copy()\n",
    "    for r in report:\n",
    "        report[r] = sum(report[r]) / len(report[r])\n",
    "    return report"
   ]
  },
  {
   "cell_type": "code",
   "execution_count": 1191,
   "metadata": {},
   "outputs": [],
   "source": [
    "from sklearn.metrics import classification_report, accuracy_score, r2_score, max_error, mean_absolute_error, mean_squared_error, median_absolute_error"
   ]
  },
  {
   "cell_type": "code",
   "execution_count": 1192,
   "metadata": {},
   "outputs": [],
   "source": [
    "def my_cross_validate(model, sampler, data_x, data_y, cv=5):\n",
    "    kfold = KFold(n_splits=cv)\n",
    "    results = {'r2': [], \n",
    "               'mean_squared_error': [],\n",
    "               'median_absolute_error': [],\n",
    "               'mean_absolute_error': [],\n",
    "               'max_error': []}\n",
    "    for train_idx, test_idx, in kfold.split(data_x):\n",
    "        X_train, X_test = data_x.iloc[train_idx], data_x.iloc[test_idx]\n",
    "        y_train, y_test = data_y.iloc[train_idx], data_y.iloc[test_idx]\n",
    "        \n",
    "        if sampler != None: X_train, y_train = sampler.fit_resample(X_train, y_train)\n",
    "        model.fit(X_train, y_train)\n",
    "\n",
    "        y_pred = model.predict(X_test)\n",
    "        results['r2'].append(r2_score(y_test, y_pred))\n",
    "        results['mean_squared_error'].append(mean_squared_error(y_test, y_pred))\n",
    "        results['mean_absolute_error'].append(mean_absolute_error(y_test, y_pred))\n",
    "        results['median_absolute_error'].append(median_absolute_error(y_test, y_pred))\n",
    "        results['max_error'].append(max_error(y_test, y_pred))\n",
    "\n",
    "    for a in results:\n",
    "        results[a] = sum(results[a]) / len(results[a])\n",
    "    return results"
   ]
  },
  {
   "cell_type": "code",
   "execution_count": 1193,
   "metadata": {},
   "outputs": [],
   "source": [
    "class MLExploration:\n",
    "    SCORES_DICT = {s: '' for s in SCORES}\n",
    "    TEMPLATE_DICT = {\n",
    "        'model': '', \n",
    "        'hyperparameters': '',\n",
    "        'r2': [], \n",
    "        'mean_squared_error': [],\n",
    "        'median_absolute_error': [],\n",
    "        'mean_absolute_error': [],\n",
    "        'max_error': []\n",
    "    }\n",
    "    RANDOM_STATE = 42\n",
    "\n",
    "    def __init__(self, data_x, data_y, output_file_path):\n",
    "        self.data_x = data_x\n",
    "        self.data_y = data_y\n",
    "        self.output_file_path = output_file_path\n",
    "\n",
    "        self.explored_models = pandas.DataFrame([MLExploration.TEMPLATE_DICT])\n",
    "        if os.path.exists(output_file_path): \n",
    "            self.explored_models = pandas.read_json(output_file_path, orient='split')\n",
    "\n",
    "\n",
    "    def grid_search(self, model, parameters):\n",
    "        parameter_combinations = self.__parameter_product(parameters)\n",
    "        for combination in parameter_combinations:\n",
    "            print(combination)\n",
    "            self.explore_model(model, combination)\n",
    "\n",
    "    def explore_model(self, model, hyperparameters, sampler=None):\n",
    "        index = MLExploration.hash(model, hyperparameters)\n",
    "        if index in self.explored_models.index: return self.explored_models.loc[index]\n",
    "\n",
    "        scores = my_cross_validate(model(**hyperparameters), sampler, data_x, data_y)\n",
    "        average_scores = scores.values()\n",
    "\n",
    "        self.explored_models.loc[index] = [\n",
    "            MLExploration.hash_model(model), \n",
    "            MLExploration.hash_hyperparameters(hyperparameters),\n",
    "            *average_scores\n",
    "        ]\n",
    "        self.explored_models.to_json(self.output_file_path, orient='split')\n",
    "\n",
    "    def hash_model(model):\n",
    "        return str(model.__name__)\n",
    "    \n",
    "    def hash_hyperparameters(hyperparameters):\n",
    "       return str(sorted(hyperparameters.items(), key=lambda x:x[0]))\n",
    "    \n",
    "    def hash(model, hyperparameters):\n",
    "        model = MLExploration.hash_model(model)\n",
    "        hyperparameters = MLExploration.hash_hyperparameters(hyperparameters)\n",
    "        return str((model, hyperparameters))\n",
    "    \n",
    "    def __parameter_product(self, parameters):\n",
    "        keys, values = zip(*parameters.items())\n",
    "        experiments = [dict(zip(keys, v)) for v in itertools.product(*values)]\n",
    "        return experiments"
   ]
  },
  {
   "cell_type": "markdown",
   "metadata": {},
   "source": [
    "## **Regression**"
   ]
  },
  {
   "cell_type": "code",
   "execution_count": 1194,
   "metadata": {},
   "outputs": [],
   "source": [
    "from sklearn.ensemble import AdaBoostRegressor, RandomForestRegressor, GradientBoostingRegressor\n",
    "from sklearn.gaussian_process import GaussianProcessRegressor\n",
    "from sklearn.neighbors import KNeighborsRegressor\n",
    "from sklearn.tree import DecisionTreeRegressor\n",
    "from sklearn.neural_network import MLPRegressor\n",
    "from xgboost import XGBRegressor"
   ]
  },
  {
   "cell_type": "code",
   "execution_count": 1195,
   "metadata": {},
   "outputs": [],
   "source": [
    "csqa_reg = MLExploration(data_x, data_y, CACHE)"
   ]
  },
  {
   "cell_type": "code",
   "execution_count": 1196,
   "metadata": {},
   "outputs": [
    {
     "ename": "TypeError",
     "evalue": "my_cross_validate() missing 1 required positional argument: 'data_y'",
     "output_type": "error",
     "traceback": [
      "\u001b[1;31m---------------------------------------------------------------------------\u001b[0m",
      "\u001b[1;31mTypeError\u001b[0m                                 Traceback (most recent call last)",
      "Cell \u001b[1;32mIn[1196], line 5\u001b[0m\n\u001b[0;32m      3\u001b[0m csqa_reg\u001b[39m.\u001b[39mexplore_model(RandomForestRegressor, {})\n\u001b[0;32m      4\u001b[0m csqa_reg\u001b[39m.\u001b[39mexplore_model(XGBRegressor, {})\n\u001b[1;32m----> 5\u001b[0m csqa_reg\u001b[39m.\u001b[39;49mexplore_model(GaussianProcessRegressor, {})\n\u001b[0;32m      6\u001b[0m csqa_reg\u001b[39m.\u001b[39mexplore_model(KNeighborsRegressor, {})\n\u001b[0;32m      7\u001b[0m csqa_reg\u001b[39m.\u001b[39mexplore_model(DecisionTreeRegressor, {})\n",
      "Cell \u001b[1;32mIn[1193], line 34\u001b[0m, in \u001b[0;36mMLExploration.explore_model\u001b[1;34m(self, model, hyperparameters)\u001b[0m\n\u001b[0;32m     31\u001b[0m index \u001b[39m=\u001b[39m MLExploration\u001b[39m.\u001b[39mhash(model, hyperparameters)\n\u001b[0;32m     32\u001b[0m \u001b[39mif\u001b[39;00m index \u001b[39min\u001b[39;00m \u001b[39mself\u001b[39m\u001b[39m.\u001b[39mexplored_models\u001b[39m.\u001b[39mindex: \u001b[39mreturn\u001b[39;00m \u001b[39mself\u001b[39m\u001b[39m.\u001b[39mexplored_models\u001b[39m.\u001b[39mloc[index]\n\u001b[1;32m---> 34\u001b[0m scores \u001b[39m=\u001b[39m my_cross_validate(model(\u001b[39m*\u001b[39;49m\u001b[39m*\u001b[39;49mhyperparameters), data_x, data_y)\n\u001b[0;32m     35\u001b[0m average_scores \u001b[39m=\u001b[39m scores\u001b[39m.\u001b[39mvalues()\n\u001b[0;32m     37\u001b[0m \u001b[39mself\u001b[39m\u001b[39m.\u001b[39mexplored_models\u001b[39m.\u001b[39mloc[index] \u001b[39m=\u001b[39m [\n\u001b[0;32m     38\u001b[0m     MLExploration\u001b[39m.\u001b[39mhash_model(model), \n\u001b[0;32m     39\u001b[0m     MLExploration\u001b[39m.\u001b[39mhash_hyperparameters(hyperparameters),\n\u001b[0;32m     40\u001b[0m     \u001b[39m*\u001b[39maverage_scores\n\u001b[0;32m     41\u001b[0m ]\n",
      "\u001b[1;31mTypeError\u001b[0m: my_cross_validate() missing 1 required positional argument: 'data_y'"
     ]
    }
   ],
   "source": [
    "csqa_reg.explore_model(AdaBoostRegressor, {})\n",
    "csqa_reg.explore_model(GradientBoostingRegressor, {})\n",
    "csqa_reg.explore_model(RandomForestRegressor, {})\n",
    "csqa_reg.explore_model(XGBRegressor, {})\n",
    "csqa_reg.explore_model(GaussianProcessRegressor, {})\n",
    "csqa_reg.explore_model(KNeighborsRegressor, {})\n",
    "csqa_reg.explore_model(DecisionTreeRegressor, {})\n",
    "csqa_reg.explore_model(MLPRegressor, {'max_iter': 10000})\n",
    "print('')"
   ]
  },
  {
   "cell_type": "code",
   "execution_count": null,
   "metadata": {},
   "outputs": [
    {
     "data": {
      "text/html": [
       "<style type=\"text/css\">\n",
       "</style>\n",
       "<table id=\"T_fb8af\">\n",
       "  <thead>\n",
       "    <tr>\n",
       "      <th id=\"T_fb8af_level0_col0\" class=\"col_heading level0 col0\" >model</th>\n",
       "      <th id=\"T_fb8af_level0_col1\" class=\"col_heading level0 col1\" >hyperparameters</th>\n",
       "      <th id=\"T_fb8af_level0_col2\" class=\"col_heading level0 col2\" >r2</th>\n",
       "      <th id=\"T_fb8af_level0_col3\" class=\"col_heading level0 col3\" >neg_root_mean_squared_error</th>\n",
       "      <th id=\"T_fb8af_level0_col4\" class=\"col_heading level0 col4\" >neg_median_absolute_error</th>\n",
       "      <th id=\"T_fb8af_level0_col5\" class=\"col_heading level0 col5\" >neg_mean_absolute_error</th>\n",
       "      <th id=\"T_fb8af_level0_col6\" class=\"col_heading level0 col6\" >max_error</th>\n",
       "    </tr>\n",
       "  </thead>\n",
       "  <tbody>\n",
       "    <tr>\n",
       "      <td id=\"T_fb8af_row0_col0\" class=\"data row0 col0\" ></td>\n",
       "      <td id=\"T_fb8af_row0_col1\" class=\"data row0 col1\" ></td>\n",
       "      <td id=\"T_fb8af_row0_col2\" class=\"data row0 col2\" ></td>\n",
       "      <td id=\"T_fb8af_row0_col3\" class=\"data row0 col3\" ></td>\n",
       "      <td id=\"T_fb8af_row0_col4\" class=\"data row0 col4\" ></td>\n",
       "      <td id=\"T_fb8af_row0_col5\" class=\"data row0 col5\" ></td>\n",
       "      <td id=\"T_fb8af_row0_col6\" class=\"data row0 col6\" ></td>\n",
       "    </tr>\n",
       "    <tr>\n",
       "      <td id=\"T_fb8af_row1_col0\" class=\"data row1 col0\" >AdaBoostRegressor</td>\n",
       "      <td id=\"T_fb8af_row1_col1\" class=\"data row1 col1\" >[]</td>\n",
       "      <td id=\"T_fb8af_row1_col2\" class=\"data row1 col2\" >0.340786</td>\n",
       "      <td id=\"T_fb8af_row1_col3\" class=\"data row1 col3\" >-5.566115</td>\n",
       "      <td id=\"T_fb8af_row1_col4\" class=\"data row1 col4\" >-2.452650</td>\n",
       "      <td id=\"T_fb8af_row1_col5\" class=\"data row1 col5\" >-3.918998</td>\n",
       "      <td id=\"T_fb8af_row1_col6\" class=\"data row1 col6\" >-18.842168</td>\n",
       "    </tr>\n",
       "    <tr>\n",
       "      <td id=\"T_fb8af_row2_col0\" class=\"data row2 col0\" >GradientBoostingRegressor</td>\n",
       "      <td id=\"T_fb8af_row2_col1\" class=\"data row2 col1\" >[]</td>\n",
       "      <td id=\"T_fb8af_row2_col2\" class=\"data row2 col2\" >0.332465</td>\n",
       "      <td id=\"T_fb8af_row2_col3\" class=\"data row2 col3\" >-5.602659</td>\n",
       "      <td id=\"T_fb8af_row2_col4\" class=\"data row2 col4\" >-1.670877</td>\n",
       "      <td id=\"T_fb8af_row2_col5\" class=\"data row2 col5\" >-3.493938</td>\n",
       "      <td id=\"T_fb8af_row2_col6\" class=\"data row2 col6\" >-19.497899</td>\n",
       "    </tr>\n",
       "    <tr>\n",
       "      <td id=\"T_fb8af_row3_col0\" class=\"data row3 col0\" >RandomForestRegressor</td>\n",
       "      <td id=\"T_fb8af_row3_col1\" class=\"data row3 col1\" >[]</td>\n",
       "      <td id=\"T_fb8af_row3_col2\" class=\"data row3 col2\" >0.206292</td>\n",
       "      <td id=\"T_fb8af_row3_col3\" class=\"data row3 col3\" >-6.093592</td>\n",
       "      <td id=\"T_fb8af_row3_col4\" class=\"data row3 col4\" >-1.276000</td>\n",
       "      <td id=\"T_fb8af_row3_col5\" class=\"data row3 col5\" >-3.626547</td>\n",
       "      <td id=\"T_fb8af_row3_col6\" class=\"data row3 col6\" >-19.962000</td>\n",
       "    </tr>\n",
       "    <tr>\n",
       "      <td id=\"T_fb8af_row4_col0\" class=\"data row4 col0\" >XGBRegressor</td>\n",
       "      <td id=\"T_fb8af_row4_col1\" class=\"data row4 col1\" >[]</td>\n",
       "      <td id=\"T_fb8af_row4_col2\" class=\"data row4 col2\" >0.099333</td>\n",
       "      <td id=\"T_fb8af_row4_col3\" class=\"data row4 col3\" >-6.475855</td>\n",
       "      <td id=\"T_fb8af_row4_col4\" class=\"data row4 col4\" >-1.007585</td>\n",
       "      <td id=\"T_fb8af_row4_col5\" class=\"data row4 col5\" >-3.752570</td>\n",
       "      <td id=\"T_fb8af_row4_col6\" class=\"data row4 col6\" >-19.918621</td>\n",
       "    </tr>\n",
       "    <tr>\n",
       "      <td id=\"T_fb8af_row5_col0\" class=\"data row5 col0\" >GaussianProcessRegressor</td>\n",
       "      <td id=\"T_fb8af_row5_col1\" class=\"data row5 col1\" >[]</td>\n",
       "      <td id=\"T_fb8af_row5_col2\" class=\"data row5 col2\" >-2.317232</td>\n",
       "      <td id=\"T_fb8af_row5_col3\" class=\"data row5 col3\" >-10.590219</td>\n",
       "      <td id=\"T_fb8af_row5_col4\" class=\"data row5 col4\" >-1.695351</td>\n",
       "      <td id=\"T_fb8af_row5_col5\" class=\"data row5 col5\" >-4.322612</td>\n",
       "      <td id=\"T_fb8af_row5_col6\" class=\"data row5 col6\" >-104.583773</td>\n",
       "    </tr>\n",
       "    <tr>\n",
       "      <td id=\"T_fb8af_row6_col0\" class=\"data row6 col0\" >KNeighborsRegressor</td>\n",
       "      <td id=\"T_fb8af_row6_col1\" class=\"data row6 col1\" >[]</td>\n",
       "      <td id=\"T_fb8af_row6_col2\" class=\"data row6 col2\" >0.297723</td>\n",
       "      <td id=\"T_fb8af_row6_col3\" class=\"data row6 col3\" >-5.739037</td>\n",
       "      <td id=\"T_fb8af_row6_col4\" class=\"data row6 col4\" >-2.240000</td>\n",
       "      <td id=\"T_fb8af_row6_col5\" class=\"data row6 col5\" >-3.578497</td>\n",
       "      <td id=\"T_fb8af_row6_col6\" class=\"data row6 col6\" >-20.000000</td>\n",
       "    </tr>\n",
       "    <tr>\n",
       "      <td id=\"T_fb8af_row7_col0\" class=\"data row7 col0\" >DecisionTreeRegressor</td>\n",
       "      <td id=\"T_fb8af_row7_col1\" class=\"data row7 col1\" >[]</td>\n",
       "      <td id=\"T_fb8af_row7_col2\" class=\"data row7 col2\" >-0.243509</td>\n",
       "      <td id=\"T_fb8af_row7_col3\" class=\"data row7 col3\" >-7.599239</td>\n",
       "      <td id=\"T_fb8af_row7_col4\" class=\"data row7 col4\" >-0.400000</td>\n",
       "      <td id=\"T_fb8af_row7_col5\" class=\"data row7 col5\" >-4.101612</td>\n",
       "      <td id=\"T_fb8af_row7_col6\" class=\"data row7 col6\" >-20.000000</td>\n",
       "    </tr>\n",
       "    <tr>\n",
       "      <td id=\"T_fb8af_row8_col0\" class=\"data row8 col0\" >MLPRegressor</td>\n",
       "      <td id=\"T_fb8af_row8_col1\" class=\"data row8 col1\" >[('max_iter', 10000)]</td>\n",
       "      <td id=\"T_fb8af_row8_col2\" class=\"data row8 col2\" >0.400695</td>\n",
       "      <td id=\"T_fb8af_row8_col3\" class=\"data row8 col3\" >-5.317205</td>\n",
       "      <td id=\"T_fb8af_row8_col4\" class=\"data row8 col4\" >-2.102771</td>\n",
       "      <td id=\"T_fb8af_row8_col5\" class=\"data row8 col5\" >-3.512536</td>\n",
       "      <td id=\"T_fb8af_row8_col6\" class=\"data row8 col6\" >-20.305056</td>\n",
       "    </tr>\n",
       "  </tbody>\n",
       "</table>\n"
      ],
      "text/plain": [
       "<pandas.io.formats.style.Styler at 0x16b510b2a10>"
      ]
     },
     "execution_count": 1124,
     "metadata": {},
     "output_type": "execute_result"
    }
   ],
   "source": [
    "csqa_reg.explored_models.style.hide(axis='index')"
   ]
  }
 ],
 "metadata": {
  "kernelspec": {
   "display_name": "Python 3",
   "language": "python",
   "name": "python3"
  },
  "language_info": {
   "codemirror_mode": {
    "name": "ipython",
    "version": 3
   },
   "file_extension": ".py",
   "mimetype": "text/x-python",
   "name": "python",
   "nbconvert_exporter": "python",
   "pygments_lexer": "ipython3",
   "version": "3.11.4"
  },
  "orig_nbformat": 4
 },
 "nbformat": 4,
 "nbformat_minor": 2
}
