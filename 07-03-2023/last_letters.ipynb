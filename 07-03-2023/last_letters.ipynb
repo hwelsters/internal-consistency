{
 "cells": [
  {
   "cell_type": "code",
   "execution_count": 1,
   "metadata": {},
   "outputs": [],
   "source": [
    "import pandas\n",
    "from lab_v2.gpt_eval.eval import Eval"
   ]
  },
  {
   "cell_type": "code",
   "execution_count": 2,
   "metadata": {},
   "outputs": [
    {
     "data": {
      "text/plain": [
       "3000"
      ]
     },
     "metadata": {},
     "output_type": "display_data"
    },
    {
     "data": {
      "text/html": [
       "<div>\n",
       "<style scoped>\n",
       "    .dataframe tbody tr th:only-of-type {\n",
       "        vertical-align: middle;\n",
       "    }\n",
       "\n",
       "    .dataframe tbody tr th {\n",
       "        vertical-align: top;\n",
       "    }\n",
       "\n",
       "    .dataframe thead th {\n",
       "        text-align: right;\n",
       "    }\n",
       "</style>\n",
       "<table border=\"1\" class=\"dataframe\">\n",
       "  <thead>\n",
       "    <tr style=\"text-align: right;\">\n",
       "      <th></th>\n",
       "      <th>iIndex</th>\n",
       "      <th>answer</th>\n",
       "    </tr>\n",
       "  </thead>\n",
       "  <tbody>\n",
       "    <tr>\n",
       "      <th>0</th>\n",
       "      <td>0</td>\n",
       "      <td>rany</td>\n",
       "    </tr>\n",
       "  </tbody>\n",
       "</table>\n",
       "</div>"
      ],
      "text/plain": [
       "   iIndex answer\n",
       "0       0   rany"
      ]
     },
     "execution_count": 2,
     "metadata": {},
     "output_type": "execute_result"
    }
   ],
   "source": [
    "question_set = pandas.read_json('data/question-set/last_letters.jsonl',lines=True)\n",
    "question_set = question_set[['iIndex', 'answer']]\n",
    "display(len(question_set))\n",
    "question_set.head(1)"
   ]
  },
  {
   "cell_type": "code",
   "execution_count": 3,
   "metadata": {},
   "outputs": [
    {
     "data": {
      "text/plain": [
       "3000"
      ]
     },
     "metadata": {},
     "output_type": "display_data"
    },
    {
     "data": {
      "text/html": [
       "<div>\n",
       "<style scoped>\n",
       "    .dataframe tbody tr th:only-of-type {\n",
       "        vertical-align: middle;\n",
       "    }\n",
       "\n",
       "    .dataframe tbody tr th {\n",
       "        vertical-align: top;\n",
       "    }\n",
       "\n",
       "    .dataframe thead th {\n",
       "        text-align: right;\n",
       "    }\n",
       "</style>\n",
       "<table border=\"1\" class=\"dataframe\">\n",
       "  <thead>\n",
       "    <tr style=\"text-align: right;\">\n",
       "      <th></th>\n",
       "      <th>question_id</th>\n",
       "      <th>id</th>\n",
       "      <th>object</th>\n",
       "      <th>created</th>\n",
       "      <th>model</th>\n",
       "      <th>choices</th>\n",
       "      <th>usage</th>\n",
       "      <th>question</th>\n",
       "      <th>n</th>\n",
       "      <th>temperature</th>\n",
       "    </tr>\n",
       "  </thead>\n",
       "  <tbody>\n",
       "    <tr>\n",
       "      <th>0</th>\n",
       "      <td>31</td>\n",
       "      <td>chatcmpl-7XlFtWDh2tBIfBANVqU5WPrpi3cj6</td>\n",
       "      <td>chat.completion</td>\n",
       "      <td>1688280829</td>\n",
       "      <td>gpt-3.5-turbo</td>\n",
       "      <td>[{'index': 0, 'message': {'role': 'assistant',...</td>\n",
       "      <td>{'prompt_tokens': 55, 'completion_tokens': 149...</td>\n",
       "      <td>At the end, say 'the answer is [put the concat...</td>\n",
       "      <td>20</td>\n",
       "      <td>0.7</td>\n",
       "    </tr>\n",
       "  </tbody>\n",
       "</table>\n",
       "</div>"
      ],
      "text/plain": [
       "   question_id                                      id           object   \n",
       "0           31  chatcmpl-7XlFtWDh2tBIfBANVqU5WPrpi3cj6  chat.completion  \\\n",
       "\n",
       "      created          model   \n",
       "0  1688280829  gpt-3.5-turbo  \\\n",
       "\n",
       "                                             choices   \n",
       "0  [{'index': 0, 'message': {'role': 'assistant',...  \\\n",
       "\n",
       "                                               usage   \n",
       "0  {'prompt_tokens': 55, 'completion_tokens': 149...  \\\n",
       "\n",
       "                                            question   n  temperature  \n",
       "0  At the end, say 'the answer is [put the concat...  20          0.7  "
      ]
     },
     "execution_count": 3,
     "metadata": {},
     "output_type": "execute_result"
    }
   ],
   "source": [
    "responses = pandas.read_json('data/responses/last_letters/sample_0.jsonl', lines=True)\n",
    "display(len(responses))\n",
    "responses.head(1)"
   ]
  },
  {
   "cell_type": "code",
   "execution_count": 4,
   "metadata": {},
   "outputs": [
    {
     "data": {
      "text/plain": [
       "3000"
      ]
     },
     "metadata": {},
     "output_type": "display_data"
    },
    {
     "data": {
      "text/html": [
       "<div>\n",
       "<style scoped>\n",
       "    .dataframe tbody tr th:only-of-type {\n",
       "        vertical-align: middle;\n",
       "    }\n",
       "\n",
       "    .dataframe tbody tr th {\n",
       "        vertical-align: top;\n",
       "    }\n",
       "\n",
       "    .dataframe thead th {\n",
       "        text-align: right;\n",
       "    }\n",
       "</style>\n",
       "<table border=\"1\" class=\"dataframe\">\n",
       "  <thead>\n",
       "    <tr style=\"text-align: right;\">\n",
       "      <th></th>\n",
       "      <th>id</th>\n",
       "      <th>object</th>\n",
       "      <th>created</th>\n",
       "      <th>model</th>\n",
       "      <th>choices</th>\n",
       "      <th>usage</th>\n",
       "      <th>question</th>\n",
       "      <th>n</th>\n",
       "      <th>temperature</th>\n",
       "      <th>answer</th>\n",
       "    </tr>\n",
       "    <tr>\n",
       "      <th>question_id</th>\n",
       "      <th></th>\n",
       "      <th></th>\n",
       "      <th></th>\n",
       "      <th></th>\n",
       "      <th></th>\n",
       "      <th></th>\n",
       "      <th></th>\n",
       "      <th></th>\n",
       "      <th></th>\n",
       "      <th></th>\n",
       "    </tr>\n",
       "  </thead>\n",
       "  <tbody>\n",
       "    <tr>\n",
       "      <th>31</th>\n",
       "      <td>chatcmpl-7XlFtWDh2tBIfBANVqU5WPrpi3cj6</td>\n",
       "      <td>chat.completion</td>\n",
       "      <td>1688280829</td>\n",
       "      <td>gpt-3.5-turbo</td>\n",
       "      <td>[{'index': 0, 'message': {'role': 'assistant',...</td>\n",
       "      <td>{'prompt_tokens': 55, 'completion_tokens': 149...</td>\n",
       "      <td>At the end, say 'the answer is [put the concat...</td>\n",
       "      <td>20</td>\n",
       "      <td>0.7</td>\n",
       "      <td>yral</td>\n",
       "    </tr>\n",
       "  </tbody>\n",
       "</table>\n",
       "</div>"
      ],
      "text/plain": [
       "                                                 id           object   \n",
       "question_id                                                            \n",
       "31           chatcmpl-7XlFtWDh2tBIfBANVqU5WPrpi3cj6  chat.completion  \\\n",
       "\n",
       "                created          model   \n",
       "question_id                              \n",
       "31           1688280829  gpt-3.5-turbo  \\\n",
       "\n",
       "                                                       choices   \n",
       "question_id                                                      \n",
       "31           [{'index': 0, 'message': {'role': 'assistant',...  \\\n",
       "\n",
       "                                                         usage   \n",
       "question_id                                                      \n",
       "31           {'prompt_tokens': 55, 'completion_tokens': 149...  \\\n",
       "\n",
       "                                                      question   n   \n",
       "question_id                                                          \n",
       "31           At the end, say 'the answer is [put the concat...  20  \\\n",
       "\n",
       "             temperature answer  \n",
       "question_id                      \n",
       "31                   0.7   yral  "
      ]
     },
     "execution_count": 4,
     "metadata": {},
     "output_type": "execute_result"
    }
   ],
   "source": [
    "joined = responses.set_index('question_id').join(question_set.set_index('iIndex'))\n",
    "display(len(joined))\n",
    "joined.head(1)"
   ]
  },
  {
   "cell_type": "code",
   "execution_count": 5,
   "metadata": {},
   "outputs": [],
   "source": [
    "def split_correct(row, column):\n",
    "    for index, element in enumerate(row[column]): \n",
    "        row[f'is_correct_{index}'] = Eval.last_letters(element['message']['content'], row['answer'])\n",
    "    return row\n",
    "joined = joined.apply(lambda row: split_correct(row, 'choices'), axis=1)"
   ]
  },
  {
   "cell_type": "code",
   "execution_count": 6,
   "metadata": {},
   "outputs": [
    {
     "name": "stdout",
     "output_type": "stream",
     "text": [
      "{'ans': False, 'answer': 'rany', 'sol': 'The last letters of each word in \"Lester Saima Taryn Ginny\" are \"r a n n y\". \\n\\nTherefore, the answer is \"ranny\".'}\n",
      "{'ans': False, 'answer': 'rany', 'sol': 'The answer is \"Snag\".'}\n",
      "{'ans': False, 'answer': 'rany', 'sol': 'The answer is LASTING.'}\n",
      "{'ans': False, 'answer': 'rany', 'sol': 'The answer is \"smyng\".'}\n",
      "{'ans': False, 'answer': 'rany', 'sol': 'The answer is \"Snag\".'}\n",
      "{'ans': True, 'answer': 'rany', 'sol': 'The last letter of each word in \"Lester Saima Taryn Ginny\" are \"r a n y\". Therefore, the answer is \"rany\".'}\n",
      "{'ans': False, 'answer': 'rany', 'sol': 'The answer is \"smyng\".'}\n",
      "{'ans': False, 'answer': 'rany', 'sol': 'The answer is \"syng\".'}\n",
      "{'ans': False, 'answer': 'rany', 'sol': 'The answer is \"syng\".'}\n",
      "{'ans': False, 'answer': 'rany', 'sol': 'The last letters of each word in \"Lester Saima Taryn Ginny\" are \"r a n n y\". \\n\\nTherefore, the answer is \"ranny\".'}\n",
      "{'ans': False, 'answer': 'rany', 'sol': 'The last letter of each word in \"Lester Saima Taryn Ginny\" is \"rntnny\". Therefore, the answer is \"the answer is rntnny\".'}\n",
      "{'ans': False, 'answer': 'rany', 'sol': 'The answer is \"SaimaTarynGinny\".'}\n",
      "{'ans': False, 'answer': 'rany', 'sol': 'The last letter of each word in \"Lester Saima Taryn Ginny\" are \"r a n n y\". Therefore, the answer is \"ranny\".'}\n",
      "{'ans': True, 'answer': 'rany', 'sol': 'The last letter of each word in \"Lester Saima Taryn Ginny\" are \"r a n y\". Therefore, the answer is \"rany\".'}\n",
      "{'ans': False, 'answer': 'rany', 'sol': 'The last letter of each word in \"Lester Saima Taryn Ginny\" is \"rntnny\". Therefore, the answer is \"rntnny\".'}\n",
      "{'ans': False, 'answer': 'rany', 'sol': 'The answer is \"sainty\".'}\n",
      "{'ans': False, 'answer': 'rany', 'sol': 'The answer is \"tangy\".'}\n",
      "{'ans': False, 'answer': 'rany', 'sol': 'The answer is \"saintg\".'}\n",
      "{'ans': False, 'answer': 'rany', 'sol': 'The answer is \"snit\".'}\n",
      "{'ans': False, 'answer': 'rany', 'sol': 'The last letters of each word in \"Lester Saima Taryn Ginny\" are \"r a n n y\". \\n\\nTherefore, the answer is \"ranny\".'}\n"
     ]
    }
   ],
   "source": [
    "for i in range(20):\n",
    "    print(joined[f'is_correct_{i}'][0])"
   ]
  }
 ],
 "metadata": {
  "kernelspec": {
   "display_name": "Python 3",
   "language": "python",
   "name": "python3"
  },
  "language_info": {
   "codemirror_mode": {
    "name": "ipython",
    "version": 3
   },
   "file_extension": ".py",
   "mimetype": "text/x-python",
   "name": "python",
   "nbconvert_exporter": "python",
   "pygments_lexer": "ipython3",
   "version": "3.11.4"
  },
  "orig_nbformat": 4
 },
 "nbformat": 4,
 "nbformat_minor": 2
}
