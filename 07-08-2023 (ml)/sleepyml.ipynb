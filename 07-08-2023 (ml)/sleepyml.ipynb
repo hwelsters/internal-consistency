{
 "cells": [
  {
   "cell_type": "code",
   "execution_count": 240,
   "metadata": {},
   "outputs": [],
   "source": [
    "import os\n",
    "import itertools\n",
    "from functools import reduce\n",
    "\n",
    "from sklearn.model_selection import *\n",
    "\n",
    "from sklearn.metrics import classification_report, accuracy_score, make_scorer\n",
    "from sklearn.model_selection import cross_validate\n",
    "from sklearn.svm import SVC\n",
    "\n",
    "import numpy\n",
    "import pandas\n",
    "import seaborn\n",
    "\n",
    "from lab_v2.io import read_file"
   ]
  },
  {
   "cell_type": "code",
   "execution_count": 241,
   "metadata": {},
   "outputs": [],
   "source": [
    "# FILE PATHS\n",
    "DRAW_T03 = './data/draw/draw-T0.3.jsonl' \n",
    "DRAW_T07 = './data/draw/draw-T0.7.jsonl' \n",
    "CSQA_T07 = './data/csqa/csqa-T0.7.jsonl' \n",
    "LAST_LETTERS_T07 = './data/last_letters/last_letters-T0.7.jsonl' \n",
    "\n",
    "ATTRIBUTES = [\"majority_distance\", \"majority_distance_squared\", \"shannon_entropy\", \"gini_impurity\"]\n",
    "CLASS = 'majority_correct'\n",
    "K_FOLDS = 5\n",
    "RANDOM_STATE = 0\n",
    "FILE_PATH = CSQA_T07\n",
    "\n",
    "CACHE = 'cache/csqa/csqa-T0.3.json'\n",
    "CACHE_ROS = 'cache/csqa/csqa-T0.3-ROS.json'\n",
    "\n",
    "DATA_EXPLORATION = False"
   ]
  },
  {
   "cell_type": "code",
   "execution_count": 242,
   "metadata": {},
   "outputs": [
    {
     "data": {
      "text/html": [
       "<div>\n",
       "<style scoped>\n",
       "    .dataframe tbody tr th:only-of-type {\n",
       "        vertical-align: middle;\n",
       "    }\n",
       "\n",
       "    .dataframe tbody tr th {\n",
       "        vertical-align: top;\n",
       "    }\n",
       "\n",
       "    .dataframe thead th {\n",
       "        text-align: right;\n",
       "    }\n",
       "</style>\n",
       "<table border=\"1\" class=\"dataframe\">\n",
       "  <thead>\n",
       "    <tr style=\"text-align: right;\">\n",
       "      <th></th>\n",
       "      <th>majority_distance</th>\n",
       "      <th>majority_distance_squared</th>\n",
       "      <th>shannon_entropy</th>\n",
       "      <th>gini_impurity</th>\n",
       "      <th>majority_correct</th>\n",
       "    </tr>\n",
       "  </thead>\n",
       "  <tbody>\n",
       "    <tr>\n",
       "      <th>0</th>\n",
       "      <td>1.378000e-07</td>\n",
       "      <td>0.0</td>\n",
       "      <td>0.0</td>\n",
       "      <td>0.0</td>\n",
       "      <td>True</td>\n",
       "    </tr>\n",
       "  </tbody>\n",
       "</table>\n",
       "</div>"
      ],
      "text/plain": [
       "   majority_distance  majority_distance_squared  shannon_entropy   \n",
       "0       1.378000e-07                        0.0              0.0  \\\n",
       "\n",
       "   gini_impurity  majority_correct  \n",
       "0            0.0              True  "
      ]
     },
     "execution_count": 242,
     "metadata": {},
     "output_type": "execute_result"
    }
   ],
   "source": [
    "data = read_file(FILE_PATH)\n",
    "data.head(1)"
   ]
  },
  {
   "cell_type": "code",
   "execution_count": 243,
   "metadata": {},
   "outputs": [],
   "source": [
    "if DATA_EXPLORATION:\n",
    "    fig = px.scatter_3d(data, x='majority_distance', y='shannon_entropy', z='gini_impurity', color=CLASS, \n",
    "                        color_discrete_sequence=[px.colors.sequential.Plasma_r[3], px.colors.sequential.Plasma_r[-1]])\n",
    "    fig.update_traces(marker=dict(size=3), selector=dict(mode='markers'))\n",
    "    fig.update_traces(marker=dict(opacity=0.75), selector=dict(mode='markers'))\n",
    "    fig.update_layout(margin=dict(l=0, r=0, b=0, t=0))\n",
    "    fig.show()"
   ]
  },
  {
   "cell_type": "markdown",
   "metadata": {},
   "source": [
    "## **Data exploration**"
   ]
  },
  {
   "cell_type": "code",
   "execution_count": 244,
   "metadata": {},
   "outputs": [],
   "source": [
    "if DATA_EXPLORATION:\n",
    "    seaborn.set_theme(style='ticks')\n",
    "    seaborn.pairplot(data, hue=\"majority_correct\", plot_kws={'alpha': 0.4})\n",
    "    print('')"
   ]
  },
  {
   "cell_type": "code",
   "execution_count": 245,
   "metadata": {},
   "outputs": [],
   "source": [
    "data_x = data[ATTRIBUTES]\n",
    "data_y = data[CLASS]"
   ]
  },
  {
   "cell_type": "code",
   "execution_count": 246,
   "metadata": {},
   "outputs": [],
   "source": [
    "classification_reports = []\n",
    "def classification_report_scorer(y_true, y_pred):\n",
    "    classification_reports.append(classification_report(y_true, y_pred))\n",
    "    return accuracy_score(y_true, y_pred)"
   ]
  },
  {
   "cell_type": "code",
   "execution_count": 247,
   "metadata": {},
   "outputs": [],
   "source": [
    "def report_average(*args):\n",
    "    report_list = list()\n",
    "    for report in args:\n",
    "        splited = [' '.join(x.split()) for x in report.split('\\n\\n')]\n",
    "        header = [x for x in splited[0].split(' ')]\n",
    "        data = numpy.array(splited[1].split(' ')).reshape(-1, len(header) + 1)\n",
    "        data = numpy.delete(data, 0, 1).astype(float)\n",
    "        rest = splited[2].split(' ')\n",
    "        accuarcy =numpy.array([0, 0, rest[1], rest[2]]).astype(float).reshape(-1, len(header))\n",
    "        macro_avg = numpy.array([rest[5:9]]).astype(float).reshape(-1, len(header))\n",
    "        weighted_avg = numpy.array([rest[11:]]).astype(float).reshape(-1, len(header))\n",
    "        #avg_total = numpy.array([x for x in avg]).astype(float).reshape(-1, len(header))\n",
    "        df = pandas.DataFrame(numpy.concatenate((data, accuarcy,macro_avg,weighted_avg)), columns=header)\n",
    "        report_list.append(df)\n",
    "    res = reduce(lambda x, y: x.add(y, fill_value=0), report_list) / len(report_list)\n",
    "    return res.rename(index={res.index[-3]: 'accuracy',res.index[-2]: 'macro_avg',res.index[-1]: 'weighted_avg'})"
   ]
  },
  {
   "cell_type": "code",
   "execution_count": 248,
   "metadata": {},
   "outputs": [],
   "source": [
    "class ReportAverage:\n",
    "    def __init__(self):\n",
    "        self.classification_reports = []\n",
    "\n",
    "    def classification_report_scorer(self, y_true, y_pred):\n",
    "        self.classification_reports.append(classification_report(y_true, y_pred))\n",
    "        return accuracy_score(y_true, y_pred)\n",
    "    \n",
    "    def average_report(self):\n",
    "        average = report_average(*self.classification_reports)\n",
    "        return {\n",
    "            'precision_True': average.loc[0]['precision'],\n",
    "            'recall_True': average.loc[0]['recall'],\n",
    "            'f1-score_True': average.loc[0]['f1-score'],\n",
    "            'precision_False': average.loc[1]['precision'],\n",
    "            'recall_False': average.loc[1]['recall'],\n",
    "            'f1-score_False': average.loc[1]['f1-score'],\n",
    "            'f1-score_Average': (average.loc[0]['f1-score'] + average.loc[1]['f1-score']) / 2,\n",
    "            'accuracy': average.loc['accuracy']['f1-score']\n",
    "        }"
   ]
  },
  {
   "cell_type": "code",
   "execution_count": 249,
   "metadata": {},
   "outputs": [],
   "source": [
    "def my_cross_validate(model, sampler, data_x, data_y, scoring, cv=5):\n",
    "    kfold = KFold(n_splits=cv)\n",
    "    results = []\n",
    "    for train_idx, test_idx, in kfold.split(data_x):\n",
    "        X_train, X_test = data_x.iloc[train_idx], data_x.iloc[test_idx]\n",
    "        y_train, y_test = data_y.iloc[train_idx], data_y.iloc[test_idx]\n",
    "        \n",
    "        if sampler != None: X_train, y_train = sampler.fit_resample(X_train, y_train)\n",
    "        model.fit(X_train, y_train)\n",
    "\n",
    "        y_pred = model.predict(X_test)\n",
    "        results.append(scoring(y_test, y_pred))\n",
    "    return sum(results) / len(results)"
   ]
  },
  {
   "cell_type": "code",
   "execution_count": null,
   "metadata": {},
   "outputs": [],
   "source": []
  },
  {
   "cell_type": "code",
   "execution_count": 250,
   "metadata": {},
   "outputs": [],
   "source": [
    "class MLExploration:\n",
    "    TEMPLATE_DICT = {\n",
    "        'sampler': '',\n",
    "        'model': '', \n",
    "        'hyperparameters': '', \n",
    "        'precision_True': 0, \n",
    "        'recall_True': 0, \n",
    "        'f1-score_True': 0, \n",
    "        'precision_False': 0, \n",
    "        'recall_False': 0, \n",
    "        'f1-score_False': 0,\n",
    "        'f1-score_Average': 0,\n",
    "        'accuracy': 0\n",
    "    }\n",
    "    RANDOM_STATE = 42\n",
    "\n",
    "    def __init__(self, data_x, data_y, output_file_path):\n",
    "        self.data_x = data_x\n",
    "        self.data_y = data_y\n",
    "        self.output_file_path = output_file_path\n",
    "        self.explored_models = pandas.DataFrame([MLExploration.TEMPLATE_DICT])\n",
    "        if os.path.exists(output_file_path): \n",
    "            self.explored_models = pandas.read_json(output_file_path, orient='split')\n",
    "\n",
    "    def grid_search(self, model, parameters):\n",
    "        parameter_combinations = self.__parameter_product(parameters)\n",
    "        for combination in parameter_combinations:\n",
    "            print(combination)\n",
    "            self.explore_model(model, combination)\n",
    "\n",
    "    def explore_model(self, model, hyperparameters, sampler=None):\n",
    "        index = MLExploration.hash(model, hyperparameters, sampler)\n",
    "        if index in self.explored_models.index: return self.explored_models.loc[index]\n",
    "\n",
    "        scorer = ReportAverage()\n",
    "        my_cross_validate(model(**hyperparameters), sampler, data_x, data_y, scoring=scorer.classification_report_scorer)\n",
    "\n",
    "        self.explored_models.loc[index] = [\n",
    "            MLExploration.hash_sampler(sampler),\n",
    "            MLExploration.hash_model(model), \n",
    "            MLExploration.hash_hyperparameters(hyperparameters),\n",
    "            *scorer.average_report().values()\n",
    "        ]\n",
    "        self.explored_models.to_json(self.output_file_path, orient='split')\n",
    "\n",
    "    def hash_sampler(sampler):\n",
    "        return str(sampler)\n",
    "    \n",
    "    def hash_model(model):\n",
    "        if model == None: return ''\n",
    "        return str(model.__name__)\n",
    "    \n",
    "    def hash_hyperparameters(hyperparameters):\n",
    "       return str(sorted(hyperparameters.items(), key=lambda x:x[0]))\n",
    "    \n",
    "    def hash(model, hyperparameters, sampler):\n",
    "        sampler = MLExploration.hash_sampler(sampler)\n",
    "        model = MLExploration.hash_model(model)\n",
    "        hyperparameters = MLExploration.hash_hyperparameters(hyperparameters)\n",
    "        return str((sampler, model, hyperparameters))\n",
    "    \n",
    "    def __parameter_product(self, parameters):\n",
    "        keys, values = zip(*parameters.items())\n",
    "        experiments = [dict(zip(keys, v)) for v in itertools.product(*values)]\n",
    "        return experiments"
   ]
  },
  {
   "cell_type": "code",
   "execution_count": 251,
   "metadata": {},
   "outputs": [],
   "source": [
    "from sklearn.ensemble import AdaBoostClassifier, RandomForestClassifier, ExtraTreesClassifier, GradientBoostingClassifier\n",
    "from sklearn.gaussian_process import GaussianProcessClassifier\n",
    "from sklearn.gaussian_process.kernels import RBF\n",
    "from sklearn.naive_bayes import GaussianNB\n",
    "from sklearn.neighbors import KNeighborsClassifier\n",
    "from sklearn.neural_network import MLPClassifier\n",
    "from sklearn.svm import SVC\n",
    "from sklearn.tree import DecisionTreeClassifier\n",
    "\n",
    "from imblearn.over_sampling import SMOTE, ADASYN, RandomOverSampler\n",
    "from imblearn.under_sampling import CondensedNearestNeighbour, EditedNearestNeighbours, RandomUnderSampler, InstanceHardnessThreshold"
   ]
  },
  {
   "cell_type": "code",
   "execution_count": 252,
   "metadata": {},
   "outputs": [],
   "source": [
    "def classification_report_scorer(y_true, y_pred):\n",
    "    classification_report(y_true, y_pred) # print classification report\n",
    "    return accuracy_score(y_true, y_pred) # return accuracy score"
   ]
  },
  {
   "cell_type": "code",
   "execution_count": null,
   "metadata": {},
   "outputs": [],
   "source": []
  },
  {
   "cell_type": "code",
   "execution_count": 253,
   "metadata": {},
   "outputs": [],
   "source": [
    "def try_models(data_x, data_y, file_path, sampler):\n",
    "    csqa = MLExploration(data_x, data_y, file_path)\n",
    "    csqa.explore_model(AdaBoostClassifier, {}, sampler=sampler)\n",
    "    csqa.explore_model(RandomForestClassifier, {}, sampler=sampler)\n",
    "    csqa.explore_model(ExtraTreesClassifier, {}, sampler=sampler)\n",
    "    csqa.explore_model(GradientBoostingClassifier, {}, sampler=sampler)\n",
    "    csqa.explore_model(GaussianProcessClassifier, {}, sampler=sampler)\n",
    "    csqa.explore_model(GaussianNB, {}, sampler=sampler)\n",
    "    csqa.explore_model(KNeighborsClassifier, {}, sampler=sampler)\n",
    "    csqa.explore_model(MLPClassifier, {}, sampler=sampler)\n",
    "    csqa.explore_model(SVC, {}, sampler=sampler)\n",
    "    csqa.explore_model(DecisionTreeClassifier, {}, sampler=sampler)\n",
    "\n",
    "    csqa.explored_models.sort_values(by='f1-score_Average').style.hide(axis='index')"
   ]
  },
  {
   "cell_type": "code",
   "execution_count": 254,
   "metadata": {},
   "outputs": [
    {
     "name": "stdout",
     "output_type": "stream",
     "text": [
      "{'your momma so': 'fat', 'her iq': 1}\n"
     ]
    },
    {
     "ename": "TypeError",
     "evalue": "DecisionTreeClassifier.__init__() got an unexpected keyword argument 'your momma so'",
     "output_type": "error",
     "traceback": [
      "\u001b[1;31m---------------------------------------------------------------------------\u001b[0m",
      "\u001b[1;31mTypeError\u001b[0m                                 Traceback (most recent call last)",
      "Cell \u001b[1;32mIn[254], line 29\u001b[0m\n\u001b[0;32m     27\u001b[0m name \u001b[39m=\u001b[39m row[\u001b[39m0\u001b[39m]\n\u001b[0;32m     28\u001b[0m sampler \u001b[39m=\u001b[39m row[\u001b[39m1\u001b[39m]\n\u001b[1;32m---> 29\u001b[0m try_models(data_x, data_y, cache_file_path, sampler)\n",
      "Cell \u001b[1;32mIn[253], line 14\u001b[0m, in \u001b[0;36mtry_models\u001b[1;34m(data_x, data_y, file_path, sampler)\u001b[0m\n\u001b[0;32m     11\u001b[0m csqa\u001b[39m.\u001b[39mexplore_model(SVC, {}, sampler\u001b[39m=\u001b[39msampler)\n\u001b[0;32m     12\u001b[0m csqa\u001b[39m.\u001b[39mexplore_model(DecisionTreeClassifier, {}, sampler\u001b[39m=\u001b[39msampler)\n\u001b[1;32m---> 14\u001b[0m csqa\u001b[39m.\u001b[39;49mgrid_search(DecisionTreeClassifier, {\n\u001b[0;32m     15\u001b[0m     \u001b[39m'\u001b[39;49m\u001b[39myour momma so\u001b[39;49m\u001b[39m'\u001b[39;49m: [\u001b[39m'\u001b[39;49m\u001b[39mfat\u001b[39;49m\u001b[39m'\u001b[39;49m, \u001b[39m'\u001b[39;49m\u001b[39mdumb\u001b[39;49m\u001b[39m'\u001b[39;49m, \u001b[39m'\u001b[39;49m\u001b[39mstupid\u001b[39;49m\u001b[39m'\u001b[39;49m],\n\u001b[0;32m     16\u001b[0m     \u001b[39m'\u001b[39;49m\u001b[39mher iq\u001b[39;49m\u001b[39m'\u001b[39;49m: [\u001b[39m1\u001b[39;49m, \u001b[39m2\u001b[39;49m, \u001b[39m3\u001b[39;49m]\n\u001b[0;32m     17\u001b[0m })\n\u001b[0;32m     19\u001b[0m csqa\u001b[39m.\u001b[39mexplored_models\u001b[39m.\u001b[39msort_values(by\u001b[39m=\u001b[39m\u001b[39m'\u001b[39m\u001b[39mf1-score_Average\u001b[39m\u001b[39m'\u001b[39m)\u001b[39m.\u001b[39mstyle\u001b[39m.\u001b[39mhide(axis\u001b[39m=\u001b[39m\u001b[39m'\u001b[39m\u001b[39mindex\u001b[39m\u001b[39m'\u001b[39m)\n",
      "Cell \u001b[1;32mIn[250], line 29\u001b[0m, in \u001b[0;36mMLExploration.grid_search\u001b[1;34m(self, model, parameters)\u001b[0m\n\u001b[0;32m     27\u001b[0m \u001b[39mfor\u001b[39;00m combination \u001b[39min\u001b[39;00m parameter_combinations:\n\u001b[0;32m     28\u001b[0m     \u001b[39mprint\u001b[39m(combination)\n\u001b[1;32m---> 29\u001b[0m     \u001b[39mself\u001b[39;49m\u001b[39m.\u001b[39;49mexplore_model(model, combination)\n",
      "Cell \u001b[1;32mIn[250], line 36\u001b[0m, in \u001b[0;36mMLExploration.explore_model\u001b[1;34m(self, model, hyperparameters, sampler)\u001b[0m\n\u001b[0;32m     33\u001b[0m \u001b[39mif\u001b[39;00m index \u001b[39min\u001b[39;00m \u001b[39mself\u001b[39m\u001b[39m.\u001b[39mexplored_models\u001b[39m.\u001b[39mindex: \u001b[39mreturn\u001b[39;00m \u001b[39mself\u001b[39m\u001b[39m.\u001b[39mexplored_models\u001b[39m.\u001b[39mloc[index]\n\u001b[0;32m     35\u001b[0m scorer \u001b[39m=\u001b[39m ReportAverage()\n\u001b[1;32m---> 36\u001b[0m my_cross_validate(model(\u001b[39m*\u001b[39;49m\u001b[39m*\u001b[39;49mhyperparameters), sampler, data_x, data_y, scoring\u001b[39m=\u001b[39mscorer\u001b[39m.\u001b[39mclassification_report_scorer)\n\u001b[0;32m     38\u001b[0m \u001b[39mself\u001b[39m\u001b[39m.\u001b[39mexplored_models\u001b[39m.\u001b[39mloc[index] \u001b[39m=\u001b[39m [\n\u001b[0;32m     39\u001b[0m     MLExploration\u001b[39m.\u001b[39mhash_sampler(sampler),\n\u001b[0;32m     40\u001b[0m     MLExploration\u001b[39m.\u001b[39mhash_model(model), \n\u001b[0;32m     41\u001b[0m     MLExploration\u001b[39m.\u001b[39mhash_hyperparameters(hyperparameters),\n\u001b[0;32m     42\u001b[0m     \u001b[39m*\u001b[39mscorer\u001b[39m.\u001b[39maverage_report()\u001b[39m.\u001b[39mvalues()\n\u001b[0;32m     43\u001b[0m ]\n\u001b[0;32m     44\u001b[0m \u001b[39mself\u001b[39m\u001b[39m.\u001b[39mexplored_models\u001b[39m.\u001b[39mto_json(\u001b[39mself\u001b[39m\u001b[39m.\u001b[39moutput_file_path, orient\u001b[39m=\u001b[39m\u001b[39m'\u001b[39m\u001b[39msplit\u001b[39m\u001b[39m'\u001b[39m)\n",
      "\u001b[1;31mTypeError\u001b[0m: DecisionTreeClassifier.__init__() got an unexpected keyword argument 'your momma so'"
     ]
    }
   ],
   "source": [
    "for file_path, cache_file_path in [\n",
    "    ('data/draw/draw-T0.3.jsonl', 'cache/draw/draw-T0.3.json'),\n",
    "    ('data/draw/draw-T0.5.jsonl', 'cache/draw/draw-T0.5.json'),\n",
    "    ('data/draw/draw-T0.7.jsonl', 'cache/draw/draw-T0.7.json'),\n",
    "    ('data/csqa/csqa-T0.3.jsonl', 'cache/csqa/csqa-T0.3.json'),\n",
    "    ('data/csqa/csqa-T0.5.jsonl', 'cache/csqa/csqa-T0.5.json'),\n",
    "    ('data/csqa/csqa-T0.7.jsonl', 'cache/csqa/csqa-T0.7.json'),\n",
    "    ('data/csqa/last_letters-T0.3.jsonl', 'cache/last_letters/last_letters-T0.3.json'),\n",
    "    ('data/last_letters/last_letters-T0.5.jsonl', 'cache/last_letters/last_letters-T0.5.json'),\n",
    "    ('data/last_letters/last_letters-T0.7.jsonl', 'cache/last_letters/last_letters-T0.7.json'),\n",
    "]:\n",
    "    data = read_file(file_path)\n",
    "    data_x = data[ATTRIBUTES]\n",
    "    data_y = data[CLASS]\n",
    "\n",
    "    for row in [\n",
    "        ('', None),\n",
    "\n",
    "        ('-ROS', RandomOverSampler(random_state=RANDOM_STATE)),\n",
    "        ('-ADASYN', ADASYN(random_state=RANDOM_STATE)),\n",
    "        ('-SMOTE', SMOTE(random_state=RANDOM_STATE)),\n",
    "\n",
    "        ('-CNN', CondensedNearestNeighbour(random_state=RANDOM_STATE)),\n",
    "        ('-ENN', EditedNearestNeighbours()),\n",
    "        ('-RUS', RandomUnderSampler(random_state=RANDOM_STATE))\n",
    "    ]:\n",
    "        name = row[0]\n",
    "        sampler = row[1]\n",
    "        try_models(data_x, data_y, cache_file_path, sampler)"
   ]
  }
 ],
 "metadata": {
  "kernelspec": {
   "display_name": "Python 3",
   "language": "python",
   "name": "python3"
  },
  "language_info": {
   "codemirror_mode": {
    "name": "ipython",
    "version": 3
   },
   "file_extension": ".py",
   "mimetype": "text/x-python",
   "name": "python",
   "nbconvert_exporter": "python",
   "pygments_lexer": "ipython3",
   "version": "3.11.4"
  },
  "orig_nbformat": 4
 },
 "nbformat": 4,
 "nbformat_minor": 2
}
