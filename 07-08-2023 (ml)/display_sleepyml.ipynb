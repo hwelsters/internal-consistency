{
 "cells": [
  {
   "cell_type": "code",
   "execution_count": 65,
   "metadata": {},
   "outputs": [],
   "source": [
    "import pandas\n",
    "import re\n",
    "\n",
    "from lab_v2.xlsx_creation import XlsxWorkbook, XlsxSheet"
   ]
  },
  {
   "cell_type": "code",
   "execution_count": 66,
   "metadata": {},
   "outputs": [],
   "source": [
    "DRAW_T03 = 'cache/draw/draw-T0.3.jsonl'\n",
    "DRAW_T05 = 'cache/draw/draw-T0.5.jsonl'\n",
    "DRAW_T07 = 'cache/draw/draw-T0.7.jsonl'\n",
    "\n",
    "CSQA_T03 = 'cache/csqa/csqa-T0.3.jsonl'\n",
    "CSQA_T05 = 'cache/csqa/csqa-T0.5.jsonl'\n",
    "CSQA_T07 = 'cache/csqa/csqa-T0.7.jsonl'\n",
    "\n",
    "LAST_LETTERS_T03 = 'cache/last_letters/last_letters-T0.3.jsonl'\n",
    "LAST_LETTERS_T05 = 'cache/last_letters/last_letters-T0.5.jsonl'\n",
    "LAST_LETTERS_T07 = 'cache/last_letters/last_letters-T0.7.jsonl'"
   ]
  },
  {
   "cell_type": "code",
   "execution_count": 67,
   "metadata": {},
   "outputs": [
    {
     "data": {
      "text/html": [
       "<div>\n",
       "<style scoped>\n",
       "    .dataframe tbody tr th:only-of-type {\n",
       "        vertical-align: middle;\n",
       "    }\n",
       "\n",
       "    .dataframe tbody tr th {\n",
       "        vertical-align: top;\n",
       "    }\n",
       "\n",
       "    .dataframe thead th {\n",
       "        text-align: right;\n",
       "    }\n",
       "</style>\n",
       "<table border=\"1\" class=\"dataframe\">\n",
       "  <thead>\n",
       "    <tr style=\"text-align: right;\">\n",
       "      <th></th>\n",
       "      <th>id</th>\n",
       "      <th>clf</th>\n",
       "      <th>sampler</th>\n",
       "      <th>fit_time</th>\n",
       "      <th>score_time</th>\n",
       "      <th>accuracy</th>\n",
       "      <th>precision-Incorrect</th>\n",
       "      <th>recall-Incorrect</th>\n",
       "      <th>f1-Incorrect</th>\n",
       "      <th>precision-Correct</th>\n",
       "      <th>recall-Correct</th>\n",
       "      <th>f1-Correct</th>\n",
       "    </tr>\n",
       "  </thead>\n",
       "  <tbody>\n",
       "    <tr>\n",
       "      <th>40</th>\n",
       "      <td>('XGBClassifier(base_score=None, booster=None,...</td>\n",
       "      <td>XGBClassifier(base_score=None, booster=None, c...</td>\n",
       "      <td>RandomUnderSampler(random_state=42)</td>\n",
       "      <td>0.103508</td>\n",
       "      <td>0.01508</td>\n",
       "      <td>0.665667</td>\n",
       "      <td>0.8501</td>\n",
       "      <td>0.680538</td>\n",
       "      <td>0.749623</td>\n",
       "      <td>0.394285</td>\n",
       "      <td>0.619001</td>\n",
       "      <td>0.472356</td>\n",
       "    </tr>\n",
       "  </tbody>\n",
       "</table>\n",
       "</div>"
      ],
      "text/plain": [
       "                                                   id   \n",
       "40  ('XGBClassifier(base_score=None, booster=None,...  \\\n",
       "\n",
       "                                                  clf   \n",
       "40  XGBClassifier(base_score=None, booster=None, c...  \\\n",
       "\n",
       "                                sampler  fit_time  score_time  accuracy   \n",
       "40  RandomUnderSampler(random_state=42)  0.103508     0.01508  0.665667  \\\n",
       "\n",
       "    precision-Incorrect  recall-Incorrect  f1-Incorrect  precision-Correct   \n",
       "40               0.8501          0.680538      0.749623           0.394285  \\\n",
       "\n",
       "    recall-Correct  f1-Correct  \n",
       "40        0.619001    0.472356  "
      ]
     },
     "execution_count": 67,
     "metadata": {},
     "output_type": "execute_result"
    }
   ],
   "source": [
    "data = pandas.read_json(LAST_LETTERS_T03, lines=True)\n",
    "data.sort_values(by='id', ascending=False).head(1)"
   ]
  },
  {
   "cell_type": "code",
   "execution_count": 68,
   "metadata": {},
   "outputs": [
    {
     "name": "stdout",
     "output_type": "stream",
     "text": [
      "xlsx/draw/draw-T0.3.xlsx\n",
      "xlsx/draw/draw-T0.5.xlsx\n",
      "xlsx/draw/draw-T0.7.xlsx\n",
      "xlsx/csqa/csqa-T0.3.xlsx\n",
      "xlsx/csqa/csqa-T0.5.xlsx\n",
      "xlsx/csqa/csqa-T0.7.xlsx\n",
      "xlsx/last_letters/last_letters-T0.3.xlsx\n",
      "xlsx/last_letters/last_letters-T0.5.xlsx\n",
      "xlsx/last_letters/last_letters-T0.7.xlsx\n"
     ]
    }
   ],
   "source": [
    "for cache_file_path in [\n",
    "    'cache/draw/draw-T0.3',\n",
    "    'cache/draw/draw-T0.5',\n",
    "    'cache/draw/draw-T0.7',\n",
    "    'cache/csqa/csqa-T0.3',\n",
    "    'cache/csqa/csqa-T0.5',\n",
    "    'cache/csqa/csqa-T0.7',\n",
    "    'cache/last_letters/last_letters-T0.3',\n",
    "    'cache/last_letters/last_letters-T0.5',\n",
    "    'cache/last_letters/last_letters-T0.7',\n",
    "]:\n",
    "    xlsx_file_path = 'xlsx/' + '/'.join(cache_file_path.split('/')[1:]) + '.xlsx'\n",
    "    print(xlsx_file_path)\n",
    "    data = pandas.read_json(cache_file_path + '.jsonl', lines=True)\n",
    "    data = data.sort_values(by='id', ascending=False)\n",
    "    data['name'] = data['clf'].apply(lambda row : re.sub(r'Classifier\\(.*', 'Classifier', row, flags=re.DOTALL))\n",
    "    data['layer_count'] = data['clf'].apply(lambda row : row.count('Dense') - 1)\n",
    "    data['name'] = data['name'].apply(lambda row : re.sub(r'\\(|\\)|\\'', '', row, flags=re.DOTALL))\n",
    "    data['name'] = data.apply(lambda row : row['name'] if row['layer_count'] == -1 else 'Tensorflow ' + str(row['layer_count']) + ' layers', axis=1)\n",
    "    \n",
    "    data['Average incorrect precision across 5CV'] = data['precision-Incorrect']\n",
    "    data['Average incorrect recall across 5CV'] = data['recall-Incorrect']\n",
    "    data['Average correct precision across 5CV'] = data['precision-Correct']\n",
    "    data['Average correct recall across 5CV'] = data['recall-Correct']\n",
    "\n",
    "    COLUMNS = ['name', \n",
    "    'accuracy', \n",
    "    'Average incorrect precision across 5CV', \n",
    "    'Average incorrect recall across 5CV', \n",
    "    'Average correct precision across 5CV', \n",
    "    'Average correct recall across 5CV']\n",
    "    none_df = data[data['sampler'] == 'None'][COLUMNS]\n",
    "    undersampled_df = data[data['sampler'] == 'RandomUnderSampler(random_state=42)'][COLUMNS]\n",
    "    oversampled_df = data[data['sampler'] == 'RandomOverSampler(random_state=42)'][COLUMNS]\n",
    "\n",
    "    workbook = XlsxWorkbook(xlsx_file_path)\n",
    "    format = workbook.workbook.add_format()\n",
    "    format.set_text_wrap()\n",
    "\n",
    "    for df, name in [\n",
    "        (none_df, 'None'),\n",
    "        (undersampled_df, 'Random_Undersampling'),\n",
    "        (oversampled_df, 'Random_Oversampling')\n",
    "    ]:\n",
    "        none: XlsxSheet = workbook.add_sheet(name, dataframe=df)\n",
    "        workbook.workbook.get_worksheet_by_name(name).set_column(1, 6, 15)\n",
    "        none_chart = none.add_column_chart('Model Performance', 'H1')\n",
    "        none_chart.set_size({'width': 720, 'height': 400})\n",
    "        index = 0\n",
    "        for _, row in none_df.iterrows():\n",
    "            index += 1\n",
    "            none_chart.add_series({\n",
    "                'name': f'={name}!$B${index + 1}',\n",
    "                'categories': f'={name}!$D$1:$G$1',\n",
    "                'values': f'={name}!$D${index + 1}:$G${index + 1}',\n",
    "            })\n",
    "    workbook.close()"
   ]
  }
 ],
 "metadata": {
  "kernelspec": {
   "display_name": "Python 3",
   "language": "python",
   "name": "python3"
  },
  "language_info": {
   "codemirror_mode": {
    "name": "ipython",
    "version": 3
   },
   "file_extension": ".py",
   "mimetype": "text/x-python",
   "name": "python",
   "nbconvert_exporter": "python",
   "pygments_lexer": "ipython3",
   "version": "3.11.4"
  },
  "orig_nbformat": 4
 },
 "nbformat": 4,
 "nbformat_minor": 2
}
