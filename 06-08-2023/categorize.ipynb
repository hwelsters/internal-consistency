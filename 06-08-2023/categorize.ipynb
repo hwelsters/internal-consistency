{
 "cells": [
  {
   "cell_type": "code",
   "execution_count": 21,
   "metadata": {},
   "outputs": [],
   "source": [
    "import pandas\n",
    "import re"
   ]
  },
  {
   "cell_type": "code",
   "execution_count": 22,
   "metadata": {},
   "outputs": [
    {
     "name": "stdout",
     "output_type": "stream",
     "text": [
      "999\n"
     ]
    },
    {
     "data": {
      "text/html": [
       "<div>\n",
       "<style scoped>\n",
       "    .dataframe tbody tr th:only-of-type {\n",
       "        vertical-align: middle;\n",
       "    }\n",
       "\n",
       "    .dataframe tbody tr th {\n",
       "        vertical-align: top;\n",
       "    }\n",
       "\n",
       "    .dataframe thead th {\n",
       "        text-align: right;\n",
       "    }\n",
       "</style>\n",
       "<table border=\"1\" class=\"dataframe\">\n",
       "  <thead>\n",
       "    <tr style=\"text-align: right;\">\n",
       "      <th></th>\n",
       "      <th>lSolutions</th>\n",
       "      <th>iIndex</th>\n",
       "    </tr>\n",
       "  </thead>\n",
       "  <tbody>\n",
       "    <tr>\n",
       "      <th>0</th>\n",
       "      <td>[2.14285714286]</td>\n",
       "      <td>397760</td>\n",
       "    </tr>\n",
       "  </tbody>\n",
       "</table>\n",
       "</div>"
      ],
      "text/plain": [
       "        lSolutions  iIndex\n",
       "0  [2.14285714286]  397760"
      ]
     },
     "execution_count": 22,
     "metadata": {},
     "output_type": "execute_result"
    }
   ],
   "source": [
    "ground = pandas.read_json('data/input/draw.json')\n",
    "ground = ground[['lSolutions', 'iIndex']]\n",
    "print(len(ground))\n",
    "ground.head(1)"
   ]
  },
  {
   "cell_type": "code",
   "execution_count": 23,
   "metadata": {},
   "outputs": [
    {
     "name": "stdout",
     "output_type": "stream",
     "text": [
      "999\n"
     ]
    },
    {
     "data": {
      "text/html": [
       "<div>\n",
       "<style scoped>\n",
       "    .dataframe tbody tr th:only-of-type {\n",
       "        vertical-align: middle;\n",
       "    }\n",
       "\n",
       "    .dataframe tbody tr th {\n",
       "        vertical-align: top;\n",
       "    }\n",
       "\n",
       "    .dataframe thead th {\n",
       "        text-align: right;\n",
       "    }\n",
       "</style>\n",
       "<table border=\"1\" class=\"dataframe\">\n",
       "  <thead>\n",
       "    <tr style=\"text-align: right;\">\n",
       "      <th></th>\n",
       "      <th>question_id</th>\n",
       "      <th>id</th>\n",
       "      <th>object</th>\n",
       "      <th>created</th>\n",
       "      <th>model</th>\n",
       "      <th>usage</th>\n",
       "      <th>choices</th>\n",
       "      <th>question</th>\n",
       "      <th>n</th>\n",
       "      <th>temperature</th>\n",
       "      <th>solved</th>\n",
       "      <th>flag</th>\n",
       "    </tr>\n",
       "  </thead>\n",
       "  <tbody>\n",
       "    <tr>\n",
       "      <th>0</th>\n",
       "      <td>243085</td>\n",
       "      <td>chatcmpl-7NHZvNW7Lc137tyJIIt9c8lBVv9xn</td>\n",
       "      <td>chat.completion</td>\n",
       "      <td>1685783471</td>\n",
       "      <td>gpt-3.5-turbo</td>\n",
       "      <td>{'prompt_tokens': 180, 'completion_tokens': 11...</td>\n",
       "      <td>[{'message': {'role': 'assistant', 'content': ...</td>\n",
       "      <td>Extract the equations from this response.\\nYou...</td>\n",
       "      <td>1</td>\n",
       "      <td>0.7</td>\n",
       "      <td>{a: 12}</td>\n",
       "      <td>OK</td>\n",
       "    </tr>\n",
       "  </tbody>\n",
       "</table>\n",
       "</div>"
      ],
      "text/plain": [
       "   question_id                                      id           object   \n",
       "0       243085  chatcmpl-7NHZvNW7Lc137tyJIIt9c8lBVv9xn  chat.completion  \\\n",
       "\n",
       "      created          model   \n",
       "0  1685783471  gpt-3.5-turbo  \\\n",
       "\n",
       "                                               usage   \n",
       "0  {'prompt_tokens': 180, 'completion_tokens': 11...  \\\n",
       "\n",
       "                                             choices   \n",
       "0  [{'message': {'role': 'assistant', 'content': ...  \\\n",
       "\n",
       "                                            question  n  temperature   solved   \n",
       "0  Extract the equations from this response.\\nYou...  1          0.7  {a: 12}  \\\n",
       "\n",
       "  flag  \n",
       "0   OK  "
      ]
     },
     "execution_count": 23,
     "metadata": {},
     "output_type": "execute_result"
    }
   ],
   "source": [
    "solved = pandas.read_json('data/output/solved/sample_1.jsonl', lines=True)\n",
    "print(len(solved))\n",
    "solved.head(1)"
   ]
  },
  {
   "cell_type": "code",
   "execution_count": 24,
   "metadata": {},
   "outputs": [
    {
     "name": "stdout",
     "output_type": "stream",
     "text": [
      "1000\n"
     ]
    },
    {
     "data": {
      "text/html": [
       "<div>\n",
       "<style scoped>\n",
       "    .dataframe tbody tr th:only-of-type {\n",
       "        vertical-align: middle;\n",
       "    }\n",
       "\n",
       "    .dataframe tbody tr th {\n",
       "        vertical-align: top;\n",
       "    }\n",
       "\n",
       "    .dataframe thead th {\n",
       "        text-align: right;\n",
       "    }\n",
       "</style>\n",
       "<table border=\"1\" class=\"dataframe\">\n",
       "  <thead>\n",
       "    <tr style=\"text-align: right;\">\n",
       "      <th></th>\n",
       "      <th>system</th>\n",
       "    </tr>\n",
       "    <tr>\n",
       "      <th>question_id</th>\n",
       "      <th></th>\n",
       "    </tr>\n",
       "  </thead>\n",
       "  <tbody>\n",
       "    <tr>\n",
       "      <th>74243</th>\n",
       "      <td>[{'message': {'role': 'assistant', 'content': ...</td>\n",
       "    </tr>\n",
       "  </tbody>\n",
       "</table>\n",
       "</div>"
      ],
      "text/plain": [
       "                                                        system\n",
       "question_id                                                   \n",
       "74243        [{'message': {'role': 'assistant', 'content': ..."
      ]
     },
     "execution_count": 24,
     "metadata": {},
     "output_type": "execute_result"
    }
   ],
   "source": [
    "system = pandas.read_json('data/output/system_equations/sample_0.jsonl', lines=True)\n",
    "system = system[['question_id', 'choices']]\n",
    "system = system.rename(columns={'choices': 'system'})\n",
    "system = system.set_index('question_id')\n",
    "print(len(system))\n",
    "system.head(1)"
   ]
  },
  {
   "cell_type": "code",
   "execution_count": 25,
   "metadata": {},
   "outputs": [
    {
     "name": "stdout",
     "output_type": "stream",
     "text": [
      "998\n"
     ]
    },
    {
     "data": {
      "text/html": [
       "<div>\n",
       "<style scoped>\n",
       "    .dataframe tbody tr th:only-of-type {\n",
       "        vertical-align: middle;\n",
       "    }\n",
       "\n",
       "    .dataframe tbody tr th {\n",
       "        vertical-align: top;\n",
       "    }\n",
       "\n",
       "    .dataframe thead th {\n",
       "        text-align: right;\n",
       "    }\n",
       "</style>\n",
       "<table border=\"1\" class=\"dataframe\">\n",
       "  <thead>\n",
       "    <tr style=\"text-align: right;\">\n",
       "      <th></th>\n",
       "      <th>id</th>\n",
       "      <th>object</th>\n",
       "      <th>created</th>\n",
       "      <th>model</th>\n",
       "      <th>usage</th>\n",
       "      <th>choices</th>\n",
       "      <th>question</th>\n",
       "      <th>n</th>\n",
       "      <th>temperature</th>\n",
       "      <th>solved</th>\n",
       "      <th>flag</th>\n",
       "      <th>lSolutions</th>\n",
       "      <th>iIndex</th>\n",
       "      <th>system</th>\n",
       "    </tr>\n",
       "    <tr>\n",
       "      <th>question_id</th>\n",
       "      <th></th>\n",
       "      <th></th>\n",
       "      <th></th>\n",
       "      <th></th>\n",
       "      <th></th>\n",
       "      <th></th>\n",
       "      <th></th>\n",
       "      <th></th>\n",
       "      <th></th>\n",
       "      <th></th>\n",
       "      <th></th>\n",
       "      <th></th>\n",
       "      <th></th>\n",
       "      <th></th>\n",
       "    </tr>\n",
       "  </thead>\n",
       "  <tbody>\n",
       "    <tr>\n",
       "      <th>337</th>\n",
       "      <td>chatcmpl-7NHZv2tJec0zKg4EuVVfJjAb08lKa</td>\n",
       "      <td>chat.completion</td>\n",
       "      <td>1685783471</td>\n",
       "      <td>gpt-3.5-turbo</td>\n",
       "      <td>{'prompt_tokens': 237, 'completion_tokens': 27...</td>\n",
       "      <td>[{'message': {'role': 'assistant', 'content': ...</td>\n",
       "      <td>Extract the equations from this response.\\nYou...</td>\n",
       "      <td>1</td>\n",
       "      <td>0.7</td>\n",
       "      <td>{a: 12/5}</td>\n",
       "      <td>OK</td>\n",
       "      <td>[2.4]</td>\n",
       "      <td>337</td>\n",
       "      <td>[{'message': {'role': 'assistant', 'content': ...</td>\n",
       "    </tr>\n",
       "  </tbody>\n",
       "</table>\n",
       "</div>"
      ],
      "text/plain": [
       "                                                 id           object   \n",
       "question_id                                                            \n",
       "337          chatcmpl-7NHZv2tJec0zKg4EuVVfJjAb08lKa  chat.completion  \\\n",
       "\n",
       "                created          model   \n",
       "question_id                              \n",
       "337          1685783471  gpt-3.5-turbo  \\\n",
       "\n",
       "                                                         usage   \n",
       "question_id                                                      \n",
       "337          {'prompt_tokens': 237, 'completion_tokens': 27...  \\\n",
       "\n",
       "                                                       choices   \n",
       "question_id                                                      \n",
       "337          [{'message': {'role': 'assistant', 'content': ...  \\\n",
       "\n",
       "                                                      question  n   \n",
       "question_id                                                         \n",
       "337          Extract the equations from this response.\\nYou...  1  \\\n",
       "\n",
       "             temperature     solved flag lSolutions  iIndex   \n",
       "question_id                                                   \n",
       "337                  0.7  {a: 12/5}   OK      [2.4]     337  \\\n",
       "\n",
       "                                                        system  \n",
       "question_id                                                     \n",
       "337          [{'message': {'role': 'assistant', 'content': ...  "
      ]
     },
     "execution_count": 25,
     "metadata": {},
     "output_type": "execute_result"
    }
   ],
   "source": [
    "joined = pandas.merge(left=solved, right=ground, left_on='question_id', right_on='iIndex')\n",
    "joined = joined.set_index('question_id').join(system)\n",
    "joined = joined[~joined.index.duplicated(keep='first')]\n",
    "print(len(joined))\n",
    "joined.head(1)"
   ]
  },
  {
   "cell_type": "code",
   "execution_count": null,
   "metadata": {},
   "outputs": [],
   "source": []
  },
  {
   "cell_type": "code",
   "execution_count": 26,
   "metadata": {},
   "outputs": [],
   "source": [
    "def extract_actual_answer(answer):\n",
    "    answer = re.sub(r'\\s', \"\", answer)\n",
    "    answer = re.sub(r'\\s|.*####', \"\", answer)\n",
    "    return eval(answer)\n",
    "\n",
    "def remove_leading_zero(number : str):\n",
    "    return re.sub(r'^0+', '', number)\n",
    "\n",
    "def extract_chatgpt_answer(answer_text):\n",
    "    answer_text = answer_text.lower()\n",
    "    try:\n",
    "        answers = re.findall(r'the\\s*answer\\s*is\\s*.*', answer_text)[0]\n",
    "        answers = re.findall(r'\\d+\\.?\\d*', answers)\n",
    "\n",
    "        to_return = []\n",
    "        for answer in answers:\n",
    "            try: to_return.append(round(eval(remove_leading_zero(answer))))\n",
    "            except: pass\n",
    "        return set(to_return)\n",
    "    except:\n",
    "        answers = re.findall(r'\\d+\\.?\\d*', answer_text)\n",
    "        if len(answers) == 0: return set()\n",
    "        return set([answers[0]])\n",
    "\n",
    "def extract_solved(solved):\n",
    "    answers = re.findall(r'\\d+\\.?\\d*', solved)\n",
    "    return set([round(eval(answer), 2) for answer in answers])\n",
    "\n",
    "def grade_response(row):\n",
    "    solved = row['solved']\n",
    "    solved = extract_solved(solved)\n",
    "    system = row['system'][0]['message']['content']\n",
    "    system = extract_chatgpt_answer(system)\n",
    "    chatgpt_answer = extract_chatgpt_answer(row['question'])\n",
    "    actual_answer = set(row['lSolutions'])\n",
    "\n",
    "    A = 1 if len(chatgpt_answer.intersection(actual_answer)) > 0 else 0\n",
    "    C = 1 if len(system.intersection(actual_answer)) > 0 else 0\n",
    "    D = 1 if len(solved.intersection(actual_answer)) > 0 else 0\n",
    "\n",
    "    row['A. ChatGPT gets it correct from text to final solution'] = A\n",
    "    row['B. Sympy gets it correct from equations to final solution'] = 1\n",
    "    row['C. ChatGPT gets it correct from equations to final solution'] = C\n",
    "    row['D. Gets right answer when ChatGPT transforms text to equations and SymPy solves the equations from chat GPT'] = D\n",
    "\n",
    "    category_array = [A, C, D]\n",
    "\n",
    "    offset = 8 if len(chatgpt_answer.intersection(solved)) > 0 else 0\n",
    "    if category_array == [0, 0 , 0]: row['category'] = 1 + offset\n",
    "    if category_array == [0, 0 , 1]: row['category'] = 2 + offset\n",
    "    if category_array == [0, 1 , 0]: row['category'] = 3 + offset\n",
    "    if category_array == [0, 1 , 1]: row['category'] = 4 + offset\n",
    "    if category_array == [1, 0 , 0]: row['category'] = 5 + offset\n",
    "    if category_array == [1, 0 , 1]: row['category'] = 6 + offset\n",
    "    if category_array == [1, 1 , 0]: row['category'] = 7 + offset\n",
    "    if category_array == [1, 1 , 1]: row['category'] = 8 + offset\n",
    "    \n",
    "    return row"
   ]
  },
  {
   "cell_type": "code",
   "execution_count": 27,
   "metadata": {},
   "outputs": [],
   "source": [
    "joined = joined.apply(lambda row : grade_response(row), axis=1)"
   ]
  },
  {
   "cell_type": "code",
   "execution_count": 28,
   "metadata": {},
   "outputs": [
    {
     "data": {
      "text/plain": [
       "998"
      ]
     },
     "execution_count": 28,
     "metadata": {},
     "output_type": "execute_result"
    }
   ],
   "source": [
    "len(joined)"
   ]
  },
  {
   "cell_type": "code",
   "execution_count": 29,
   "metadata": {},
   "outputs": [],
   "source": [
    "def label_category(row):\n",
    "    category = row.name[0]\n",
    "    if category > 8: \n",
    "        row['E. Final answer and equations same'] = 1\n",
    "        category -= 8\n",
    "    else: row['E. Final answer and equations same'] = 0\n",
    "\n",
    "    if category == 1: \n",
    "        row['Equations'] = '''UNKNOWN'''\n",
    "        row['Solving'] = '''FAIL'''\n",
    "        row['Theory'] = '''Definitely cannot solve, may have got wrong rep.'''\n",
    "        row['Understandable'] = '''YES'''\n",
    "    elif category == 2: \n",
    "        row['Equations'] = '''SUCCEED'''\n",
    "        row['Solving'] = '''FAIL'''\n",
    "        row['Theory'] = '''Gets equations right, but solves wrong'''\n",
    "        row['Understandable'] = '''YES'''\n",
    "    elif category == 3: \n",
    "        row['Equations'] = '''FAIL'''\n",
    "        row['Solving'] = '''SUCCEED'''\n",
    "        row['Theory'] = '''Gets equations wrong, but it can solve otherwise.'''\n",
    "        row['Understandable'] = '''YES'''\n",
    "    elif category == 4: \n",
    "        row['Equations'] = '''SUCCEED'''\n",
    "        row['Solving'] = '''SUCCEED'''\n",
    "        row['Theory'] = '''Non-determinism issues as we do not know why it can't handle by itself'''\n",
    "        row['Understandable'] = '''NO'''\n",
    "    elif category == 5: \n",
    "        row['Equations'] = '''UNKNOWN'''\n",
    "        row['Solving'] = '''FAIL'''\n",
    "        row['Theory'] = '''Non-determinism as we do not know how it could gotten the problem right'''\n",
    "        row['Understandable'] = '''NO'''\n",
    "    elif category == 6: \n",
    "        row['Equations'] = '''SUCCEED'''\n",
    "        row['Solving'] = '''FAIL'''\n",
    "        row['Theory'] = '''Can get the right equations, perhaps there is something about the equations from ground truth that mess it up'''\n",
    "        row['Understandable'] = '''MAYBE'''\n",
    "    elif category == 7: \n",
    "        row['Equations'] = '''SUCCEED'''\n",
    "        row['Solving'] = '''SUCCEED'''\n",
    "        row['Theory'] = '''ChatGPT is lying on the equations it reports'''\n",
    "        row['Understandable'] = '''MAYBE'''\n",
    "    elif category == 8: \n",
    "        row['Equations'] = '''SUCCEED'''\n",
    "        row['Solving'] = '''SUCCEED'''\n",
    "        row['Theory'] = '''Gets everything right'''\n",
    "        row['Understandable'] = '''YES'''\n",
    "    return row\n",
    "\n",
    "values = pandas.DataFrame(joined[[\n",
    "    'category', \n",
    "    'A. ChatGPT gets it correct from text to final solution', \n",
    "    'B. Sympy gets it correct from equations to final solution',\n",
    "    'C. ChatGPT gets it correct from equations to final solution',\n",
    "    'D. Gets right answer when ChatGPT transforms text to equations and SymPy solves the equations from chat GPT']].value_counts().sort_index())\n",
    "values = values.apply(lambda row : label_category(row), axis=1)\n",
    "values = values[[\n",
    "    'E. Final answer and equations same',\n",
    "    'count',\n",
    "    'Equations',\n",
    "    'Solving',\n",
    "    'Understandable',\n",
    "    'Theory'\n",
    "]]"
   ]
  },
  {
   "cell_type": "code",
   "execution_count": 30,
   "metadata": {},
   "outputs": [
    {
     "name": "stderr",
     "output_type": "stream",
     "text": [
      "C:\\Users\\nocet\\AppData\\Local\\Packages\\PythonSoftwareFoundation.Python.3.11_qbz5n2kfra8p0\\LocalCache\\local-packages\\Python311\\site-packages\\xlsxwriter\\workbook.py:1660: UserWarning: Unknown worksheet reference 'Chart' in range 'Chart!$A$2:$A$10' passed to add_series()\n",
      "  warn(\"Unknown worksheet reference '%s' in range \"\n",
      "C:\\Users\\nocet\\AppData\\Local\\Packages\\PythonSoftwareFoundation.Python.3.11_qbz5n2kfra8p0\\LocalCache\\local-packages\\Python311\\site-packages\\xlsxwriter\\workbook.py:1660: UserWarning: Unknown worksheet reference 'Chart' in range 'Chart!$G$2:$G$16' passed to add_series()\n",
      "  warn(\"Unknown worksheet reference '%s' in range \"\n"
     ]
    }
   ],
   "source": [
    "import xlsxwriter\n",
    "\n",
    "writer = pandas.ExcelWriter('out.xlsx', engine='xlsxwriter')\n",
    "values.to_excel(writer, sheet_name='List')\n",
    "\n",
    "workbook = writer.book\n",
    "\n",
    "wrap_format = workbook.add_format()\n",
    "wrap_format.set_text_wrap()\n",
    "\n",
    "list_sheet = writer.sheets['List']\n",
    "list_sheet.set_column('A:H', 15, wrap_format)\n",
    "pie_chart = workbook.add_chart({'type': 'pie'})\n",
    "\n",
    "pie_chart.set_style(10)\n",
    "pie_chart.set_size({'width': 500, 'height': 300})\n",
    "pie_chart.set_title({'name': f'ChatGPT stats'})\n",
    "pie_chart.add_series({\n",
    "    'name': f'ChatGPT stats',\n",
    "    'categories': f\"=Chart!$A$2:$A$10\",\n",
    "    'values': f\"=Chart!$G$2:$G$16\",\n",
    "    'points': [\n",
    "        {'fill': {'color': '#e7366b'}},\n",
    "        {'fill': {'color': '#29cc7a'}},\n",
    "        {'fill': {'color': '#ffc619'}},\n",
    "    ],\n",
    "    'data_labels': {'value': True, 'category': True, 'position': 'center', 'percentage': True, 'name_font': {'size': 14}}\n",
    "})\n",
    "list_sheet.insert_chart('A20', pie_chart, {'x_offset': 0, 'y_offset': 0})\n",
    "workbook.close()\n"
   ]
  },
  {
   "cell_type": "code",
   "execution_count": null,
   "metadata": {},
   "outputs": [],
   "source": []
  }
 ],
 "metadata": {
  "kernelspec": {
   "display_name": "Python 3",
   "language": "python",
   "name": "python3"
  },
  "language_info": {
   "codemirror_mode": {
    "name": "ipython",
    "version": 3
   },
   "file_extension": ".py",
   "mimetype": "text/x-python",
   "name": "python",
   "nbconvert_exporter": "python",
   "pygments_lexer": "ipython3",
   "version": "3.11.3"
  },
  "orig_nbformat": 4
 },
 "nbformat": 4,
 "nbformat_minor": 2
}
