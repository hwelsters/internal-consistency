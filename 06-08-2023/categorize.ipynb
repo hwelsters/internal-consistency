{
 "cells": [
  {
   "cell_type": "code",
   "execution_count": 124,
   "metadata": {},
   "outputs": [],
   "source": [
    "import pandas\n",
    "import re"
   ]
  },
  {
   "cell_type": "code",
   "execution_count": 125,
   "metadata": {},
   "outputs": [
    {
     "data": {
      "text/html": [
       "<div>\n",
       "<style scoped>\n",
       "    .dataframe tbody tr th:only-of-type {\n",
       "        vertical-align: middle;\n",
       "    }\n",
       "\n",
       "    .dataframe tbody tr th {\n",
       "        vertical-align: top;\n",
       "    }\n",
       "\n",
       "    .dataframe thead th {\n",
       "        text-align: right;\n",
       "    }\n",
       "</style>\n",
       "<table border=\"1\" class=\"dataframe\">\n",
       "  <thead>\n",
       "    <tr style=\"text-align: right;\">\n",
       "      <th></th>\n",
       "      <th>lSolutions</th>\n",
       "      <th>iIndex</th>\n",
       "    </tr>\n",
       "  </thead>\n",
       "  <tbody>\n",
       "    <tr>\n",
       "      <th>0</th>\n",
       "      <td>[2.14285714286]</td>\n",
       "      <td>397760</td>\n",
       "    </tr>\n",
       "  </tbody>\n",
       "</table>\n",
       "</div>"
      ],
      "text/plain": [
       "        lSolutions  iIndex\n",
       "0  [2.14285714286]  397760"
      ]
     },
     "execution_count": 125,
     "metadata": {},
     "output_type": "execute_result"
    }
   ],
   "source": [
    "ground = pandas.read_json('data/input/draw.json')\n",
    "ground = ground[['lSolutions', 'iIndex']]\n",
    "ground.head(1)"
   ]
  },
  {
   "cell_type": "code",
   "execution_count": 126,
   "metadata": {},
   "outputs": [
    {
     "data": {
      "text/html": [
       "<div>\n",
       "<style scoped>\n",
       "    .dataframe tbody tr th:only-of-type {\n",
       "        vertical-align: middle;\n",
       "    }\n",
       "\n",
       "    .dataframe tbody tr th {\n",
       "        vertical-align: top;\n",
       "    }\n",
       "\n",
       "    .dataframe thead th {\n",
       "        text-align: right;\n",
       "    }\n",
       "</style>\n",
       "<table border=\"1\" class=\"dataframe\">\n",
       "  <thead>\n",
       "    <tr style=\"text-align: right;\">\n",
       "      <th></th>\n",
       "      <th>question_id</th>\n",
       "      <th>id</th>\n",
       "      <th>object</th>\n",
       "      <th>created</th>\n",
       "      <th>model</th>\n",
       "      <th>usage</th>\n",
       "      <th>choices</th>\n",
       "      <th>question</th>\n",
       "      <th>n</th>\n",
       "      <th>temperature</th>\n",
       "      <th>solved</th>\n",
       "      <th>flag</th>\n",
       "    </tr>\n",
       "  </thead>\n",
       "  <tbody>\n",
       "    <tr>\n",
       "      <th>0</th>\n",
       "      <td>113024</td>\n",
       "      <td>chatcmpl-7NHX754J9stbIGK5w2pqoUuT8P0nM</td>\n",
       "      <td>chat.completion</td>\n",
       "      <td>1685783297</td>\n",
       "      <td>gpt-3.5-turbo</td>\n",
       "      <td>{'prompt_tokens': 407, 'completion_tokens': 11...</td>\n",
       "      <td>[{'message': {'role': 'assistant', 'content': ...</td>\n",
       "      <td>Extract the equations from this response.\\nYou...</td>\n",
       "      <td>1</td>\n",
       "      <td>0.7</td>\n",
       "      <td>{a: 20, b: 4}</td>\n",
       "      <td>OK</td>\n",
       "    </tr>\n",
       "  </tbody>\n",
       "</table>\n",
       "</div>"
      ],
      "text/plain": [
       "   question_id                                      id           object   \n",
       "0       113024  chatcmpl-7NHX754J9stbIGK5w2pqoUuT8P0nM  chat.completion  \\\n",
       "\n",
       "      created          model   \n",
       "0  1685783297  gpt-3.5-turbo  \\\n",
       "\n",
       "                                               usage   \n",
       "0  {'prompt_tokens': 407, 'completion_tokens': 11...  \\\n",
       "\n",
       "                                             choices   \n",
       "0  [{'message': {'role': 'assistant', 'content': ...  \\\n",
       "\n",
       "                                            question  n  temperature   \n",
       "0  Extract the equations from this response.\\nYou...  1          0.7  \\\n",
       "\n",
       "          solved flag  \n",
       "0  {a: 20, b: 4}   OK  "
      ]
     },
     "execution_count": 126,
     "metadata": {},
     "output_type": "execute_result"
    }
   ],
   "source": [
    "solved = pandas.read_json('data/output/solved/sample_0.jsonl', lines=True)\n",
    "solved.head(1)"
   ]
  },
  {
   "cell_type": "code",
   "execution_count": 127,
   "metadata": {},
   "outputs": [
    {
     "data": {
      "text/html": [
       "<div>\n",
       "<style scoped>\n",
       "    .dataframe tbody tr th:only-of-type {\n",
       "        vertical-align: middle;\n",
       "    }\n",
       "\n",
       "    .dataframe tbody tr th {\n",
       "        vertical-align: top;\n",
       "    }\n",
       "\n",
       "    .dataframe thead th {\n",
       "        text-align: right;\n",
       "    }\n",
       "</style>\n",
       "<table border=\"1\" class=\"dataframe\">\n",
       "  <thead>\n",
       "    <tr style=\"text-align: right;\">\n",
       "      <th></th>\n",
       "      <th>question_id</th>\n",
       "      <th>id</th>\n",
       "      <th>object</th>\n",
       "      <th>created</th>\n",
       "      <th>model</th>\n",
       "      <th>usage</th>\n",
       "      <th>choices</th>\n",
       "      <th>question</th>\n",
       "      <th>n</th>\n",
       "      <th>temperature</th>\n",
       "      <th>solved</th>\n",
       "      <th>flag</th>\n",
       "      <th>lSolutions</th>\n",
       "      <th>iIndex</th>\n",
       "    </tr>\n",
       "  </thead>\n",
       "  <tbody>\n",
       "    <tr>\n",
       "      <th>0</th>\n",
       "      <td>113024</td>\n",
       "      <td>chatcmpl-7NHX754J9stbIGK5w2pqoUuT8P0nM</td>\n",
       "      <td>chat.completion</td>\n",
       "      <td>1685783297</td>\n",
       "      <td>gpt-3.5-turbo</td>\n",
       "      <td>{'prompt_tokens': 407, 'completion_tokens': 11...</td>\n",
       "      <td>[{'message': {'role': 'assistant', 'content': ...</td>\n",
       "      <td>Extract the equations from this response.\\nYou...</td>\n",
       "      <td>1</td>\n",
       "      <td>0.7</td>\n",
       "      <td>{a: 20, b: 4}</td>\n",
       "      <td>OK</td>\n",
       "      <td>[20.0, 4.0]</td>\n",
       "      <td>113024</td>\n",
       "    </tr>\n",
       "  </tbody>\n",
       "</table>\n",
       "</div>"
      ],
      "text/plain": [
       "   question_id                                      id           object   \n",
       "0       113024  chatcmpl-7NHX754J9stbIGK5w2pqoUuT8P0nM  chat.completion  \\\n",
       "\n",
       "      created          model   \n",
       "0  1685783297  gpt-3.5-turbo  \\\n",
       "\n",
       "                                               usage   \n",
       "0  {'prompt_tokens': 407, 'completion_tokens': 11...  \\\n",
       "\n",
       "                                             choices   \n",
       "0  [{'message': {'role': 'assistant', 'content': ...  \\\n",
       "\n",
       "                                            question  n  temperature   \n",
       "0  Extract the equations from this response.\\nYou...  1          0.7  \\\n",
       "\n",
       "          solved flag   lSolutions  iIndex  \n",
       "0  {a: 20, b: 4}   OK  [20.0, 4.0]  113024  "
      ]
     },
     "execution_count": 127,
     "metadata": {},
     "output_type": "execute_result"
    }
   ],
   "source": [
    "joined = pandas.merge(left=solved, right=ground, left_on='question_id', right_on='iIndex')\n",
    "joined.head(1)"
   ]
  },
  {
   "cell_type": "code",
   "execution_count": 128,
   "metadata": {},
   "outputs": [
    {
     "ename": "SyntaxError",
     "evalue": "invalid syntax (2360790856.py, line 26)",
     "output_type": "error",
     "traceback": [
      "\u001b[1;36m  Cell \u001b[1;32mIn[128], line 26\u001b[1;36m\u001b[0m\n\u001b[1;33m    B =\u001b[0m\n\u001b[1;37m        ^\u001b[0m\n\u001b[1;31mSyntaxError\u001b[0m\u001b[1;31m:\u001b[0m invalid syntax\n"
     ]
    }
   ],
   "source": [
    "def extract_actual_answer(answer):\n",
    "    answer = re.sub(r'\\s', \"\", answer)\n",
    "    answer = re.sub(r'\\s|.*####', \"\", answer)\n",
    "    return eval(answer)\n",
    "\n",
    "def extract_chatgpt_answer(answer):\n",
    "    answer = answer.lower()\n",
    "    try:\n",
    "        answer = re.findall(r'the\\s*answer\\s*is\\s*.*', answer)[0]\n",
    "        answer = re.findall(r'\\d+\\.?\\d*', answer)\n",
    "        return eval(answer)\n",
    "    except:\n",
    "        answer = re.findall(r'\\d+\\.?\\d*', answer)\n",
    "        if len(answer) == 0: return \"WRONG\"\n",
    "        else: return eval(answer)\n",
    "\n",
    "def extract_solved(solved):\n",
    "    return set(re.findall(r'the\\s*answer\\s*is\\s*.*', solved))\n",
    "\n",
    "def grade_response(row):\n",
    "    solved = row['solved']\n",
    "    chatgpt_answer = round(extract_chatgpt_answer(row['question']), 2)\n",
    "    actual_answer = round(extract_actual_answer(row['answer']), 2)\n",
    "\n",
    "    A = 1 if chatgpt_answer == actual_answer else 0\n",
    "    B = \n",
    "    C = \n",
    "    D = \n",
    "    pass"
   ]
  },
  {
   "cell_type": "code",
   "execution_count": null,
   "metadata": {},
   "outputs": [
    {
     "data": {
      "text/plain": [
       "540"
      ]
     },
     "execution_count": 120,
     "metadata": {},
     "output_type": "execute_result"
    }
   ],
   "source": [
    "extract_actual_answer(\"\"\"\n",
    "Simplifying:\n",
    "\n",
    "x = 540 meters/week\n",
    "\n",
    "Step 2: Final answer\n",
    "The answer is 540 meters per week.\n",
    "\n",
    "\n",
    "\n",
    "He sprints 3*3=<<3*3=9>>9 times\n",
    "So he runs 9*60=<<9*60=540>>540 meters\n",
    "#### 540\n",
    "\"\"\")"
   ]
  },
  {
   "cell_type": "code",
   "execution_count": null,
   "metadata": {},
   "outputs": [
    {
     "data": {
      "text/plain": [
       "540"
      ]
     },
     "execution_count": 121,
     "metadata": {},
     "output_type": "execute_result"
    }
   ],
   "source": [
    "extract_chatgpt_answer(\"\"\"\n",
    "Step 1: Algebraic system of equations\n",
    "Let x be the number of meters James runs in a week.\n",
    "Each sprint is 60 meters, and he runs 3 sprints 3 times a week, so:\n",
    "\n",
    "x = 60 meters/sprint * 3 sprints/time * 3 times/week\n",
    "\n",
    "Simplifying:\n",
    "\n",
    "x = 540 meters/week\n",
    "\n",
    "Step 2: Final answer\n",
    "The answer is 540 meters per week.\n",
    "\n",
    "\"\"\")"
   ]
  }
 ],
 "metadata": {
  "kernelspec": {
   "display_name": "Python 3",
   "language": "python",
   "name": "python3"
  },
  "language_info": {
   "codemirror_mode": {
    "name": "ipython",
    "version": 3
   },
   "file_extension": ".py",
   "mimetype": "text/x-python",
   "name": "python",
   "nbconvert_exporter": "python",
   "pygments_lexer": "ipython3",
   "version": "3.11.3"
  },
  "orig_nbformat": 4
 },
 "nbformat": 4,
 "nbformat_minor": 2
}
