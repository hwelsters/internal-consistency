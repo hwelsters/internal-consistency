{
 "cells": [
  {
   "cell_type": "code",
   "execution_count": 6,
   "metadata": {},
   "outputs": [],
   "source": [
    "import pandas"
   ]
  },
  {
   "cell_type": "code",
   "execution_count": 7,
   "metadata": {},
   "outputs": [
    {
     "data": {
      "text/html": [
       "<div>\n",
       "<style scoped>\n",
       "    .dataframe tbody tr th:only-of-type {\n",
       "        vertical-align: middle;\n",
       "    }\n",
       "\n",
       "    .dataframe tbody tr th {\n",
       "        vertical-align: top;\n",
       "    }\n",
       "\n",
       "    .dataframe thead th {\n",
       "        text-align: right;\n",
       "    }\n",
       "</style>\n",
       "<table border=\"1\" class=\"dataframe\">\n",
       "  <thead>\n",
       "    <tr style=\"text-align: right;\">\n",
       "      <th></th>\n",
       "      <th>question_id</th>\n",
       "      <th>id</th>\n",
       "      <th>object</th>\n",
       "      <th>created</th>\n",
       "      <th>model</th>\n",
       "      <th>usage</th>\n",
       "      <th>choices</th>\n",
       "      <th>question</th>\n",
       "      <th>n</th>\n",
       "      <th>temperature</th>\n",
       "    </tr>\n",
       "  </thead>\n",
       "  <tbody>\n",
       "    <tr>\n",
       "      <th>0</th>\n",
       "      <td>3</td>\n",
       "      <td>chatcmpl-7Msj3cPJiJvEZ4cTRscgvviCxXJQy</td>\n",
       "      <td>chat.completion</td>\n",
       "      <td>1685687937</td>\n",
       "      <td>gpt-3.5-turbo</td>\n",
       "      <td>{'prompt_tokens': 104, 'completion_tokens': 18...</td>\n",
       "      <td>[{'message': {'role': 'assistant', 'content': ...</td>\n",
       "      <td>Solve the math question below:\\nSolve by break...</td>\n",
       "      <td>20</td>\n",
       "      <td>0.7</td>\n",
       "    </tr>\n",
       "  </tbody>\n",
       "</table>\n",
       "</div>"
      ],
      "text/plain": [
       "   question_id                                      id           object   \n",
       "0            3  chatcmpl-7Msj3cPJiJvEZ4cTRscgvviCxXJQy  chat.completion  \\\n",
       "\n",
       "      created          model   \n",
       "0  1685687937  gpt-3.5-turbo  \\\n",
       "\n",
       "                                               usage   \n",
       "0  {'prompt_tokens': 104, 'completion_tokens': 18...  \\\n",
       "\n",
       "                                             choices   \n",
       "0  [{'message': {'role': 'assistant', 'content': ...  \\\n",
       "\n",
       "                                            question   n  temperature  \n",
       "0  Solve the math question below:\\nSolve by break...  20          0.7  "
      ]
     },
     "execution_count": 7,
     "metadata": {},
     "output_type": "execute_result"
    }
   ],
   "source": [
    "data = pandas.read_json('../data/output/response/sample_0.jsonl', lines=True)\n",
    "data.head(1)"
   ]
  },
  {
   "cell_type": "code",
   "execution_count": 8,
   "metadata": {},
   "outputs": [],
   "source": [
    "def split_into_columns(row):\n",
    "    choices = row['choices']\n",
    "    for index,choice in enumerate(choices):\n",
    "        message = choice['message']['content']\n",
    "        row[f'sample_{index}'] = message\n",
    "    return row \n",
    "data = data.apply(lambda row : split_into_columns(row), axis=1)"
   ]
  },
  {
   "cell_type": "code",
   "execution_count": 9,
   "metadata": {},
   "outputs": [
    {
     "data": {
      "text/html": [
       "<div>\n",
       "<style scoped>\n",
       "    .dataframe tbody tr th:only-of-type {\n",
       "        vertical-align: middle;\n",
       "    }\n",
       "\n",
       "    .dataframe tbody tr th {\n",
       "        vertical-align: top;\n",
       "    }\n",
       "\n",
       "    .dataframe thead th {\n",
       "        text-align: right;\n",
       "    }\n",
       "</style>\n",
       "<table border=\"1\" class=\"dataframe\">\n",
       "  <thead>\n",
       "    <tr style=\"text-align: right;\">\n",
       "      <th></th>\n",
       "      <th>question_id</th>\n",
       "      <th>id</th>\n",
       "      <th>object</th>\n",
       "      <th>created</th>\n",
       "      <th>model</th>\n",
       "      <th>usage</th>\n",
       "      <th>choices</th>\n",
       "      <th>question</th>\n",
       "      <th>n</th>\n",
       "      <th>temperature</th>\n",
       "      <th>...</th>\n",
       "      <th>sample_10</th>\n",
       "      <th>sample_11</th>\n",
       "      <th>sample_12</th>\n",
       "      <th>sample_13</th>\n",
       "      <th>sample_14</th>\n",
       "      <th>sample_15</th>\n",
       "      <th>sample_16</th>\n",
       "      <th>sample_17</th>\n",
       "      <th>sample_18</th>\n",
       "      <th>sample_19</th>\n",
       "    </tr>\n",
       "  </thead>\n",
       "  <tbody>\n",
       "    <tr>\n",
       "      <th>0</th>\n",
       "      <td>3</td>\n",
       "      <td>chatcmpl-7Msj3cPJiJvEZ4cTRscgvviCxXJQy</td>\n",
       "      <td>chat.completion</td>\n",
       "      <td>1685687937</td>\n",
       "      <td>gpt-3.5-turbo</td>\n",
       "      <td>{'prompt_tokens': 104, 'completion_tokens': 18...</td>\n",
       "      <td>[{'message': {'role': 'assistant', 'content': ...</td>\n",
       "      <td>Solve the math question below:\\nSolve by break...</td>\n",
       "      <td>20</td>\n",
       "      <td>0.7</td>\n",
       "      <td>...</td>\n",
       "      <td>Algebraic system of equations:\\nLet x be the t...</td>\n",
       "      <td>Algebraic system:\\nLet x be the number of mete...</td>\n",
       "      <td>Algebraic system of equations:\\nLet x be the t...</td>\n",
       "      <td>Algebraic system of equations:\\nLet's let x be...</td>\n",
       "      <td>Algebraic system of equations:\\nLet x be the t...</td>\n",
       "      <td>Algebraic system of equations:\\nLet x be the t...</td>\n",
       "      <td>Algebraic system of equations:\\nLet x be the t...</td>\n",
       "      <td>Algebraic system of equations:\\nLet x be the t...</td>\n",
       "      <td>Algebraic system:\\nLet x be the total meters J...</td>\n",
       "      <td>Algebraic system of equations:\\nLet x be the n...</td>\n",
       "    </tr>\n",
       "  </tbody>\n",
       "</table>\n",
       "<p>1 rows × 30 columns</p>\n",
       "</div>"
      ],
      "text/plain": [
       "   question_id                                      id           object   \n",
       "0            3  chatcmpl-7Msj3cPJiJvEZ4cTRscgvviCxXJQy  chat.completion  \\\n",
       "\n",
       "      created          model   \n",
       "0  1685687937  gpt-3.5-turbo  \\\n",
       "\n",
       "                                               usage   \n",
       "0  {'prompt_tokens': 104, 'completion_tokens': 18...  \\\n",
       "\n",
       "                                             choices   \n",
       "0  [{'message': {'role': 'assistant', 'content': ...  \\\n",
       "\n",
       "                                            question   n  temperature  ...   \n",
       "0  Solve the math question below:\\nSolve by break...  20          0.7  ...  \\\n",
       "\n",
       "                                           sample_10   \n",
       "0  Algebraic system of equations:\\nLet x be the t...  \\\n",
       "\n",
       "                                           sample_11   \n",
       "0  Algebraic system:\\nLet x be the number of mete...  \\\n",
       "\n",
       "                                           sample_12   \n",
       "0  Algebraic system of equations:\\nLet x be the t...  \\\n",
       "\n",
       "                                           sample_13   \n",
       "0  Algebraic system of equations:\\nLet's let x be...  \\\n",
       "\n",
       "                                           sample_14   \n",
       "0  Algebraic system of equations:\\nLet x be the t...  \\\n",
       "\n",
       "                                           sample_15   \n",
       "0  Algebraic system of equations:\\nLet x be the t...  \\\n",
       "\n",
       "                                           sample_16   \n",
       "0  Algebraic system of equations:\\nLet x be the t...  \\\n",
       "\n",
       "                                           sample_17   \n",
       "0  Algebraic system of equations:\\nLet x be the t...  \\\n",
       "\n",
       "                                           sample_18   \n",
       "0  Algebraic system:\\nLet x be the total meters J...  \\\n",
       "\n",
       "                                           sample_19  \n",
       "0  Algebraic system of equations:\\nLet x be the n...  \n",
       "\n",
       "[1 rows x 30 columns]"
      ]
     },
     "execution_count": 9,
     "metadata": {},
     "output_type": "execute_result"
    }
   ],
   "source": [
    "data.head(1)"
   ]
  },
  {
   "cell_type": "code",
   "execution_count": 13,
   "metadata": {},
   "outputs": [
    {
     "data": {
      "text/plain": [
       "Index(['question_id', 'id', 'object', 'created', 'model', 'usage', 'choices',\n",
       "       'question', 'n', 'temperature', 'sample_0', 'sample_1', 'sample_2',\n",
       "       'sample_3', 'sample_4', 'sample_5', 'sample_6', 'sample_7', 'sample_8',\n",
       "       'sample_9', 'sample_10', 'sample_11', 'sample_12', 'sample_13',\n",
       "       'sample_14', 'sample_15', 'sample_16', 'sample_17', 'sample_18',\n",
       "       'sample_19'],\n",
       "      dtype='object')"
      ]
     },
     "execution_count": 13,
     "metadata": {},
     "output_type": "execute_result"
    }
   ],
   "source": [
    "data.columns"
   ]
  },
  {
   "cell_type": "code",
   "execution_count": 12,
   "metadata": {},
   "outputs": [],
   "source": [
    "for SAMPLE_NO in range(20):\n",
    "    to_save = data.copy()\n",
    "    to_save = to_save[['question_id', 'id', 'object', 'created', 'model', 'question', f'sample_{SAMPLE_NO}', 'n', 'temperature']]\n",
    "    to_save = to_save.rename(columns={f'sample_{SAMPLE_NO}': 'response'})\n",
    "    to_save.to_json(f'sample_{SAMPLE_NO}.jsonl', lines=True, orient='records')"
   ]
  }
 ],
 "metadata": {
  "kernelspec": {
   "display_name": "Python 3",
   "language": "python",
   "name": "python3"
  },
  "language_info": {
   "codemirror_mode": {
    "name": "ipython",
    "version": 3
   },
   "file_extension": ".py",
   "mimetype": "text/x-python",
   "name": "python",
   "nbconvert_exporter": "python",
   "pygments_lexer": "ipython3",
   "version": "3.11.3"
  },
  "orig_nbformat": 4
 },
 "nbformat": 4,
 "nbformat_minor": 2
}
